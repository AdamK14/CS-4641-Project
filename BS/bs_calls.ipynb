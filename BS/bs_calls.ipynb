{
 "cells": [
  {
   "cell_type": "markdown",
   "id": "4ec40a12",
   "metadata": {},
   "source": [
    "## Libraries"
   ]
  },
  {
   "cell_type": "code",
   "execution_count": 1,
   "id": "e1ee3395",
   "metadata": {},
   "outputs": [],
   "source": [
    "import pandas as pd\n",
    "import numpy as np\n",
    "import matplotlib.pyplot as plt\n",
    "from scipy.stats import norm\n",
    "from sklearn.metrics import r2_score"
   ]
  },
  {
   "cell_type": "markdown",
   "id": "3ca60988",
   "metadata": {},
   "source": [
    "## Data Pre-Processing"
   ]
  },
  {
   "cell_type": "code",
   "execution_count": 2,
   "id": "e3b57d83",
   "metadata": {},
   "outputs": [
    {
     "name": "stdout",
     "output_type": "stream",
     "text": [
      "         underlying_price  strike_price  hist_volatility    delta    gamma  \\\n",
      "281446             323.62        0.2825         0.302241  0.96186  0.00328   \n",
      "469873             170.05        0.1400         0.283286  0.74742  0.00482   \n",
      "377166             312.68        0.1950         0.175730  0.90334  0.00033   \n",
      "362936             239.96        0.2050         0.211497  0.71960  0.00412   \n",
      "1284136            161.98        0.0800         0.191255  0.99113  0.00051   \n",
      "1540341            163.65        0.3100         0.264736  0.05263  0.00194   \n",
      "42926              300.63        0.2850         0.335333  0.62814  0.00526   \n",
      "1308711            123.00        0.1000         0.316933  0.78206  0.00700   \n",
      "970770             440.25        0.4000         0.448877  0.72349  0.00399   \n",
      "962241             108.22        0.0975         2.653039  0.84647  0.02032   \n",
      "\n",
      "            vega    theta      rho  equilibrium_price  time_to_expiry  \n",
      "281446   0.04516 -0.10052  0.07339             41.525        0.024658  \n",
      "469873   0.70113 -0.01429  1.21497             40.330        1.775452  \n",
      "377166   0.25624 -0.03999  0.17095            118.650        0.430027  \n",
      "362936   0.87047 -0.02499  1.19211             48.725        1.235726  \n",
      "1284136  0.01534 -0.00995  0.12608             82.150        0.158904  \n",
      "1540341  0.20710 -0.00617  0.10523              1.070        1.400110  \n",
      "42926    0.75709 -0.07835  0.62312             35.420        0.446575  \n",
      "1308711  0.39880 -0.01441  0.81155             29.255        1.210959  \n",
      "970770   0.79588 -0.12136  0.66995             54.775        0.293260  \n",
      "962241   0.05394 -0.08666  0.03532             11.700        0.041096  \n"
     ]
    }
   ],
   "source": [
    "# Load and combine data\n",
    "PATH_TO_FILE_1 = \"../raw data/aapl_2016_2020.csv\"\n",
    "PATH_TO_FILE_2 = \"../raw data/aapl_2021_2023.csv\"\n",
    "half_1 = pd.read_csv(PATH_TO_FILE_1, low_memory=False)\n",
    "half_2 = pd.read_csv(PATH_TO_FILE_2, low_memory=False)\n",
    "df = pd.concat([half_1, half_2], ignore_index=True)\n",
    "df.columns = df.columns.str.strip()\n",
    "\n",
    "# Option type\n",
    "option_type = \"call\"\n",
    "\n",
    "# Convert Unix timestamps to datetime\n",
    "df['QUOTE_DATETIME'] = pd.to_datetime(df['[QUOTE_UNIXTIME]'], unit='s')\n",
    "df['EXPIRE_DATETIME'] = pd.to_datetime(df['[EXPIRE_UNIX]'], unit='s')\n",
    "\n",
    "# Load underlying price data for volatility computation\n",
    "underlying_prices = df[['QUOTE_DATETIME', '[UNDERLYING_LAST]']].drop_duplicates().set_index('QUOTE_DATETIME').sort_index()\n",
    "\n",
    "# Function to compute historical volatility\n",
    "def historical_volatility(series, window=20):\n",
    "    return np.sqrt(252) * series.pct_change().rolling(window=window).std()\n",
    "\n",
    "# Compute 20-day historical volatility\n",
    "underlying_prices['hist_vol_20d'] = historical_volatility(underlying_prices['[UNDERLYING_LAST]'])\n",
    "underlying_prices.dropna(inplace=True)\n",
    "\n",
    "# Merge historical volatility back into main dataframe\n",
    "df = df.merge(underlying_prices[['hist_vol_20d']], left_on='QUOTE_DATETIME', right_index=True, how='inner')\n",
    "\n",
    "# Columns to numeric conversion: choose columns based on option type\n",
    "if option_type == 'call':\n",
    "    numeric_cols = ['[UNDERLYING_LAST]', '[DTE]', '[STRIKE]', '[C_DELTA]', '[C_GAMMA]', '[C_VEGA]',\n",
    "                    '[C_THETA]', '[C_RHO]', '[C_BID]', '[C_ASK]']\n",
    "else:\n",
    "    numeric_cols = ['[UNDERLYING_LAST]', '[DTE]', '[STRIKE]', '[P_DELTA]', '[P_GAMMA]', '[P_VEGA]',\n",
    "                    '[P_THETA]', '[P_RHO]', '[P_BID]', '[P_ASK]']\n",
    "\n",
    "essential_cols = ['[UNDERLYING_LAST]', '[DTE]', '[STRIKE]', 'hist_vol_20d', '[C_BID]', '[C_ASK]']\n",
    "df[numeric_cols] = df[numeric_cols].apply(pd.to_numeric, errors='coerce')\n",
    "df.dropna(subset=essential_cols, inplace=True)\n",
    "\n",
    "# Calculate mid-price based on option type\n",
    "if option_type == 'call':\n",
    "    df['CALL_EQUI_PRICE'] = (df['[C_BID]'] + df['[C_ASK]']) / 2\n",
    "else:\n",
    "    df['PUT_EQUI_PRICE'] = (df['[P_BID]'] + df['[P_ASK]']) / 2\n",
    "\n",
    "# Drop rows with missing essential data (dynamically chosen based on option type)\n",
    "essential_cols = ['[UNDERLYING_LAST]', '[DTE]', '[STRIKE]', 'hist_vol_20d']\n",
    "if option_type == 'call':\n",
    "    essential_cols.append('CALL_EQUI_PRICE')\n",
    "else:\n",
    "    essential_cols.append('PUT_EQUI_PRICE')\n",
    "df.dropna(subset=essential_cols, inplace=True)\n",
    "\n",
    "# Prepare option data based on the option type\n",
    "if option_type == 'call':\n",
    "    option_cols = ['[UNDERLYING_LAST]', '[STRIKE]', '[DTE]', 'hist_vol_20d', \n",
    "                   '[C_DELTA]', '[C_GAMMA]', '[C_VEGA]', '[C_THETA]', '[C_RHO]', 'CALL_EQUI_PRICE']\n",
    "    col_rename = ['underlying_price', 'strike_price', 'days_to_expiry', 'hist_volatility', \n",
    "                  'delta', 'gamma', 'vega', 'theta', 'rho', 'equilibrium_price']\n",
    "    output_file = 'processed_calls_data.csv'\n",
    "    model_file = 'call-mlp1.h5'\n",
    "else:\n",
    "    option_cols = ['[UNDERLYING_LAST]', '[STRIKE]', '[DTE]', 'hist_vol_20d', \n",
    "                   '[P_DELTA]', '[P_GAMMA]', '[P_VEGA]', '[P_THETA]', '[P_RHO]', 'PUT_EQUI_PRICE']\n",
    "    col_rename = ['underlying_price', 'strike_price', 'days_to_expiry', 'hist_volatility', \n",
    "                  'delta', 'gamma', 'vega', 'theta', 'rho', 'equilibrium_price']\n",
    "    output_file = 'processed_puts_data.csv'\n",
    "    model_file = 'put-mlp1.h5'\n",
    "\n",
    "option_df = df[option_cols].copy()\n",
    "option_df.columns = col_rename\n",
    "\n",
    "# Normalize strike price and compute time to expiry in years\n",
    "option_df['strike_price'] = option_df['strike_price'] / 1000\n",
    "option_df['time_to_expiry'] = option_df['days_to_expiry'] / 365\n",
    "option_df.drop('days_to_expiry', axis=1, inplace=True)\n",
    "\n",
    "print(option_df.sample(10))"
   ]
  },
  {
   "cell_type": "markdown",
   "id": "20ae4a60",
   "metadata": {},
   "source": [
    "## Black-Scholes Definition"
   ]
  },
  {
   "cell_type": "code",
   "execution_count": 3,
   "id": "0e20c4cf",
   "metadata": {},
   "outputs": [
    {
     "name": "stdout",
     "output_type": "stream",
     "text": [
      "         equilibrium_price       bs_price\n",
      "384531             136.900  5.759974e-288\n",
      "441445               6.030   0.000000e+00\n",
      "826076               8.105   0.000000e+00\n",
      "1131566              0.025   0.000000e+00\n",
      "845074              64.150  1.111906e-141\n",
      "774340               1.325   0.000000e+00\n",
      "325213               8.205   0.000000e+00\n",
      "370316             145.005   0.000000e+00\n",
      "1007973              0.010   0.000000e+00\n",
      "524365               2.955  1.669148e-236\n"
     ]
    }
   ],
   "source": [
    "# Black-Scholes formula for European Put Option\n",
    "def black_scholes_put(S, K, T, r, sigma):\n",
    "    \"\"\"\n",
    "    S: underlying price\n",
    "    K: strike price\n",
    "    T: time to expiry (in years)\n",
    "    r: risk-free interest rate\n",
    "    sigma: volatility (standard deviation of log returns)\n",
    "    \"\"\"\n",
    "    if T <= 0 or sigma <= 0 or S <= 0 or K <= 0:\n",
    "        return np.nan  # avoid invalid math\n",
    "\n",
    "    d1 = (np.log(S / K) + (r + 0.5 * sigma**2) * T) / (sigma * np.sqrt(T))\n",
    "    d2 = d1 - sigma * np.sqrt(T)\n",
    "    put_price = K * np.exp(-r * T) * norm.cdf(-d2) - S * norm.cdf(-d1)\n",
    "    return put_price\n",
    "\n",
    "# Assumed constant risk-free rate (can be updated if you have data)\n",
    "risk_free_rate = 0.0243  # 2%\n",
    "\n",
    "# Apply Black-Scholes formula row-wise\n",
    "option_df['bs_price'] = option_df.apply(\n",
    "    lambda row: black_scholes_put(\n",
    "        S=row['underlying_price'],\n",
    "        K=row['strike_price'],\n",
    "        T=row['time_to_expiry'],\n",
    "        r=risk_free_rate,\n",
    "        sigma=row['hist_volatility']\n",
    "    ),\n",
    "    axis=1\n",
    ")\n",
    "\n",
    "print(option_df[['equilibrium_price', 'bs_price']].sample(10))"
   ]
  },
  {
   "cell_type": "markdown",
   "id": "d06a9163",
   "metadata": {},
   "source": [
    "## Error Analysis"
   ]
  },
  {
   "cell_type": "code",
   "execution_count": 5,
   "id": "9cbc9d4f",
   "metadata": {},
   "outputs": [
    {
     "name": "stdout",
     "output_type": "stream",
     "text": [
      "\n",
      "--- Black-Scholes Error Metrics ---\n",
      "Mean Error: -35.3706\n",
      "Median Error: nan\n",
      "Standard Deviation of Error: 47.0932\n",
      "Mean Absolute Error (MAE): 35.3706\n",
      "Root Mean Squared Error (RMSE): 58.8970\n",
      "Mean Absolute Percentage Error (MAPE): inf%\n",
      "Max Error: 0.0000\n",
      "Min Error: -431.2250\n",
      "R² Score: -0.5641\n"
     ]
    },
    {
     "data": {
      "image/png": "[encoded data removed]",
      "text/plain": [
       "<Figure size 800x500 with 1 Axes>"
      ]
     },
     "metadata": {},
     "output_type": "display_data"
    }
   ],
   "source": [
    "# Difference between predicted and actual prices\n",
    "bs_diff = option_df['bs_price'] - option_df['equilibrium_price']\n",
    "\n",
    "# Absolute and percentage errors\n",
    "abs_error = np.abs(bs_diff)\n",
    "percent_error = 100 * bs_diff / option_df['equilibrium_price']\n",
    "abs_percent_error = np.abs(percent_error)\n",
    "\n",
    "# Compute error metrics\n",
    "mean_error = bs_diff.mean()\n",
    "std_error = bs_diff.std()\n",
    "median_error = np.median(bs_diff)\n",
    "mae = abs_error.mean()\n",
    "rmse = np.sqrt(np.mean(bs_diff**2))\n",
    "mape = abs_percent_error.mean()\n",
    "max_error = bs_diff.max()\n",
    "min_error = bs_diff.min()\n",
    "\n",
    "# R²: drop rows with NaNs\n",
    "valid = option_df[['equilibrium_price', 'bs_price']].dropna()\n",
    "r2 = r2_score(valid['equilibrium_price'], valid['bs_price'])\n",
    "\n",
    "# Print metrics\n",
    "print(\"\\n--- Black-Scholes Error Metrics ---\")\n",
    "print(f\"Mean Error: {mean_error:.4f}\")\n",
    "print(f\"Median Error: {median_error:.4f}\")\n",
    "print(f\"Standard Deviation of Error: {std_error:.4f}\")\n",
    "print(f\"Mean Absolute Error (MAE): {mae:.4f}\")\n",
    "print(f\"Root Mean Squared Error (RMSE): {rmse:.4f}\")\n",
    "print(f\"Mean Absolute Percentage Error (MAPE): {mape:.2f}%\")\n",
    "print(f\"Max Error: {max_error:.4f}\")\n",
    "print(f\"Min Error: {min_error:.4f}\")\n",
    "print(f\"R² Score: {r2:.4f}\")\n",
    "\n",
    "# Plot histogram of errors\n",
    "bins = np.arange(-5, 5, 0.05)\n",
    "\n",
    "plt.figure(figsize=(8, 5))\n",
    "plt.hist(bs_diff, bins=bins, alpha=0.7)\n",
    "plt.xlabel(\"BS Price - Actual Price\")\n",
    "plt.ylabel(\"Frequency\")\n",
    "plt.title(\"Black-Scholes Error Distribution (Call Options)\")\n",
    "plt.xlim([-5, 1])\n",
    "plt.grid(True)\n",
    "plt.show()"
   ]
  }
 ],
 "metadata": {
  "kernelspec": {
   "display_name": ".venv",
   "language": "python",
   "name": "python3"
  },
  "language_info": {
   "codemirror_mode": {
    "name": "ipython",
    "version": 3
   },
   "file_extension": ".py",
   "mimetype": "text/x-python",
   "name": "python",
   "nbconvert_exporter": "python",
   "pygments_lexer": "ipython3",
   "version": "3.12.9"
  }
 },
 "nbformat": 4,
 "nbformat_minor": 5
}
