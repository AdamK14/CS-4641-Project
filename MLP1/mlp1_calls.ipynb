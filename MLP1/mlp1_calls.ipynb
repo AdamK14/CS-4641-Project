{
 "cells": [
  {
   "cell_type": "markdown",
   "metadata": {},
   "source": [
    "# Imports"
   ]
  },
  {
   "cell_type": "code",
   "execution_count": 11,
   "metadata": {},
   "outputs": [],
   "source": [
    "import pandas as pd\n",
    "import numpy as np\n",
    "from sklearn.model_selection import train_test_split\n",
    "from sklearn.preprocessing import StandardScaler\n",
    "import tensorflow as tf\n",
    "from tensorflow.keras.models import Sequential, load_model\n",
    "from tensorflow.keras.layers import Dense, LeakyReLU, BatchNormalization, Activation\n",
    "from tensorflow.keras.optimizers import Adam\n",
    "from tensorflow.keras.callbacks import LearningRateScheduler, EarlyStopping\n",
    "import matplotlib.pyplot as plt\n",
    "from sklearn.metrics import r2_score"
   ]
  },
  {
   "cell_type": "markdown",
   "metadata": {},
   "source": [
    "# Pre-Processing"
   ]
  },
  {
   "cell_type": "code",
   "execution_count": 2,
   "metadata": {},
   "outputs": [
    {
     "name": "stdout",
     "output_type": "stream",
     "text": [
      "         underlying_price  strike_price  hist_volatility    delta    gamma  \\\n",
      "1067249            131.84        0.1900         0.351839  0.02625  0.00268   \n",
      "1172498            175.77        0.1675         0.322268  0.79138  0.02832   \n",
      "522449             190.04        0.2250         0.312632  0.01646  0.00280   \n",
      "1360656            155.35        0.1450         0.246784  0.79194  0.01892   \n",
      "586738             185.77        0.1500         0.119764  0.90953  0.00363   \n",
      "1167497            160.03        0.0950         0.201600  0.92995  0.00209   \n",
      "1191167            166.28        0.1700         0.238177  0.42833  0.02466   \n",
      "984062             462.82        0.5800         0.488715  0.00056  0.00006   \n",
      "1037990            148.61        0.1460         0.488307  0.69042  0.06570   \n",
      "593013             185.11        0.1800         0.122481  0.57199  0.00781   \n",
      "\n",
      "            vega    theta      rho  equilibrium_price  time_to_expiry  \n",
      "1067249  0.04671 -0.00611  0.01115              0.220        0.325918  \n",
      "1172498  0.10711 -0.07929  0.04682              9.325        0.043836  \n",
      "522449   0.02563 -0.00792  0.00333              0.085        0.098630  \n",
      "1360656  0.15639 -0.06199  0.13427             13.025        0.120438  \n",
      "586738   0.11300 -0.03644  0.10713             36.650        0.161644  \n",
      "1167497  0.21458 -0.01255  0.79995             67.725        0.986301  \n",
      "1191167  0.22270 -0.07372  0.07805              4.750        0.114959  \n",
      "984062   0.00104 -0.00483 -0.00038              0.005        0.005479  \n",
      "1037990  0.05289 -0.25904  0.00946              3.650        0.008219  \n",
      "593013   0.70754 -0.02606  0.75935             20.875        0.978082  \n"
     ]
    }
   ],
   "source": [
    "# Load and combine data\n",
    "PATH_TO_FILE_1 = \"../raw data/aapl_2016_2020.csv\"\n",
    "PATH_TO_FILE_2 = \"../raw data/aapl_2021_2023.csv\"\n",
    "half_1 = pd.read_csv(PATH_TO_FILE_1, low_memory=False)\n",
    "half_2 = pd.read_csv(PATH_TO_FILE_2, low_memory=False)\n",
    "df = pd.concat([half_1, half_2], ignore_index=True)\n",
    "df.columns = df.columns.str.strip()\n",
    "\n",
    "# Option type\n",
    "option_type = \"call\"\n",
    "\n",
    "# Convert Unix timestamps to datetime\n",
    "df['QUOTE_DATETIME'] = pd.to_datetime(df['[QUOTE_UNIXTIME]'], unit='s')\n",
    "df['EXPIRE_DATETIME'] = pd.to_datetime(df['[EXPIRE_UNIX]'], unit='s')\n",
    "\n",
    "# Load underlying price data for volatility computation\n",
    "underlying_prices = df[['QUOTE_DATETIME', '[UNDERLYING_LAST]']].drop_duplicates().set_index('QUOTE_DATETIME').sort_index()\n",
    "\n",
    "# Function to compute historical volatility\n",
    "def historical_volatility(series, window=20):\n",
    "    return np.sqrt(252) * series.pct_change().rolling(window=window).std()\n",
    "\n",
    "# Compute 20-day historical volatility\n",
    "underlying_prices['hist_vol_20d'] = historical_volatility(underlying_prices['[UNDERLYING_LAST]'])\n",
    "underlying_prices.dropna(inplace=True)\n",
    "\n",
    "# Merge historical volatility back into main dataframe\n",
    "df = df.merge(underlying_prices[['hist_vol_20d']], left_on='QUOTE_DATETIME', right_index=True, how='inner')\n",
    "\n",
    "# Columns to numeric conversion: choose columns based on option type\n",
    "if option_type == 'call':\n",
    "    numeric_cols = ['[UNDERLYING_LAST]', '[DTE]', '[STRIKE]', '[C_DELTA]', '[C_GAMMA]', '[C_VEGA]',\n",
    "                    '[C_THETA]', '[C_RHO]', '[C_BID]', '[C_ASK]']\n",
    "else:\n",
    "    numeric_cols = ['[UNDERLYING_LAST]', '[DTE]', '[STRIKE]', '[P_DELTA]', '[P_GAMMA]', '[P_VEGA]',\n",
    "                    '[P_THETA]', '[P_RHO]', '[P_BID]', '[P_ASK]']\n",
    "\n",
    "essential_cols = ['[UNDERLYING_LAST]', '[DTE]', '[STRIKE]', 'hist_vol_20d', '[C_BID]', '[C_ASK]']\n",
    "df[numeric_cols] = df[numeric_cols].apply(pd.to_numeric, errors='coerce')\n",
    "df.dropna(subset=essential_cols, inplace=True)\n",
    "\n",
    "# Calculate mid-price based on option type\n",
    "if option_type == 'call':\n",
    "    df['CALL_EQUI_PRICE'] = (df['[C_BID]'] + df['[C_ASK]']) / 2\n",
    "else:\n",
    "    df['PUT_EQUI_PRICE'] = (df['[P_BID]'] + df['[P_ASK]']) / 2\n",
    "\n",
    "# Drop rows with missing essential data (dynamically chosen based on option type)\n",
    "essential_cols = ['[UNDERLYING_LAST]', '[DTE]', '[STRIKE]', 'hist_vol_20d']\n",
    "if option_type == 'call':\n",
    "    essential_cols.append('CALL_EQUI_PRICE')\n",
    "else:\n",
    "    essential_cols.append('PUT_EQUI_PRICE')\n",
    "df.dropna(subset=essential_cols, inplace=True)\n",
    "\n",
    "# Prepare option data based on the option type\n",
    "if option_type == 'call':\n",
    "    option_cols = ['[UNDERLYING_LAST]', '[STRIKE]', '[DTE]', 'hist_vol_20d', \n",
    "                   '[C_DELTA]', '[C_GAMMA]', '[C_VEGA]', '[C_THETA]', '[C_RHO]', 'CALL_EQUI_PRICE']\n",
    "    col_rename = ['underlying_price', 'strike_price', 'days_to_expiry', 'hist_volatility', \n",
    "                  'delta', 'gamma', 'vega', 'theta', 'rho', 'equilibrium_price']\n",
    "    output_file = 'processed_calls_data.csv'\n",
    "    model_file = 'call-mlp1.h5'\n",
    "else:\n",
    "    option_cols = ['[UNDERLYING_LAST]', '[STRIKE]', '[DTE]', 'hist_vol_20d', \n",
    "                   '[P_DELTA]', '[P_GAMMA]', '[P_VEGA]', '[P_THETA]', '[P_RHO]', 'PUT_EQUI_PRICE']\n",
    "    col_rename = ['underlying_price', 'strike_price', 'days_to_expiry', 'hist_volatility', \n",
    "                  'delta', 'gamma', 'vega', 'theta', 'rho', 'equilibrium_price']\n",
    "    output_file = 'processed_puts_data.csv'\n",
    "    model_file = 'put-mlp1.h5'\n",
    "\n",
    "option_df = df[option_cols].copy()\n",
    "option_df.columns = col_rename\n",
    "\n",
    "# Normalize strike price and compute time to expiry in years\n",
    "option_df['strike_price'] = option_df['strike_price'] / 1000\n",
    "option_df['time_to_expiry'] = option_df['days_to_expiry'] / 365\n",
    "option_df.drop('days_to_expiry', axis=1, inplace=True)\n",
    "\n",
    "print(option_df.sample(10))"
   ]
  },
  {
   "cell_type": "markdown",
   "metadata": {},
   "source": [
    "# Hyperparameters"
   ]
  },
  {
   "cell_type": "code",
   "execution_count": 3,
   "metadata": {},
   "outputs": [],
   "source": [
    "# Hyperparameters\n",
    "n_units_per_layer = [256, 32, 1]\n",
    "layers = 3\n",
    "n_batch = 1024\n",
    "n_epochs = 50"
   ]
  },
  {
   "cell_type": "markdown",
   "metadata": {},
   "source": [
    "# Building model"
   ]
  },
  {
   "cell_type": "code",
   "execution_count": 4,
   "metadata": {},
   "outputs": [
    {
     "name": "stderr",
     "output_type": "stream",
     "text": [
      "c:\\GitHub Repos\\CS-4641-Project\\.venv\\Lib\\site-packages\\keras\\src\\layers\\core\\dense.py:87: UserWarning: Do not pass an `input_shape`/`input_dim` argument to a layer. When using Sequential models, prefer using an `Input(shape)` object as the first layer in the model instead.\n",
      "  super().__init__(activity_regularizer=activity_regularizer, **kwargs)\n"
     ]
    },
    {
     "data": {
      "text/html": [
       "<pre style=\"white-space:pre;overflow-x:auto;line-height:normal;font-family:Menlo,'DejaVu Sans Mono',consolas,'Courier New',monospace\"><span style=\"font-weight: bold\">Model: \"sequential\"</span>\n",
       "</pre>\n"
      ],
      "text/plain": [
       "\u001b[1mModel: \"sequential\"\u001b[0m\n"
      ]
     },
     "metadata": {},
     "output_type": "display_data"
    },
    {
     "data": {
      "text/html": [
       "<pre style=\"white-space:pre;overflow-x:auto;line-height:normal;font-family:Menlo,'DejaVu Sans Mono',consolas,'Courier New',monospace\">┏━━━━━━━━━━━━━━━━━━━━━━━━━━━━━━━━━┳━━━━━━━━━━━━━━━━━━━━━━━━┳━━━━━━━━━━━━━━━┓\n",
       "┃<span style=\"font-weight: bold\"> Layer (type)                    </span>┃<span style=\"font-weight: bold\"> Output Shape           </span>┃<span style=\"font-weight: bold\">       Param # </span>┃\n",
       "┡━━━━━━━━━━━━━━━━━━━━━━━━━━━━━━━━━╇━━━━━━━━━━━━━━━━━━━━━━━━╇━━━━━━━━━━━━━━━┩\n",
       "│ dense (<span style=\"color: #0087ff; text-decoration-color: #0087ff\">Dense</span>)                   │ (<span style=\"color: #00d7ff; text-decoration-color: #00d7ff\">None</span>, <span style=\"color: #00af00; text-decoration-color: #00af00\">256</span>)            │         <span style=\"color: #00af00; text-decoration-color: #00af00\">2,560</span> │\n",
       "├─────────────────────────────────┼────────────────────────┼───────────────┤\n",
       "│ activation (<span style=\"color: #0087ff; text-decoration-color: #0087ff\">Activation</span>)         │ (<span style=\"color: #00d7ff; text-decoration-color: #00d7ff\">None</span>, <span style=\"color: #00af00; text-decoration-color: #00af00\">256</span>)            │             <span style=\"color: #00af00; text-decoration-color: #00af00\">0</span> │\n",
       "├─────────────────────────────────┼────────────────────────┼───────────────┤\n",
       "│ dense_1 (<span style=\"color: #0087ff; text-decoration-color: #0087ff\">Dense</span>)                 │ (<span style=\"color: #00d7ff; text-decoration-color: #00d7ff\">None</span>, <span style=\"color: #00af00; text-decoration-color: #00af00\">32</span>)             │         <span style=\"color: #00af00; text-decoration-color: #00af00\">8,224</span> │\n",
       "├─────────────────────────────────┼────────────────────────┼───────────────┤\n",
       "│ activation_1 (<span style=\"color: #0087ff; text-decoration-color: #0087ff\">Activation</span>)       │ (<span style=\"color: #00d7ff; text-decoration-color: #00d7ff\">None</span>, <span style=\"color: #00af00; text-decoration-color: #00af00\">32</span>)             │             <span style=\"color: #00af00; text-decoration-color: #00af00\">0</span> │\n",
       "├─────────────────────────────────┼────────────────────────┼───────────────┤\n",
       "│ dense_2 (<span style=\"color: #0087ff; text-decoration-color: #0087ff\">Dense</span>)                 │ (<span style=\"color: #00d7ff; text-decoration-color: #00d7ff\">None</span>, <span style=\"color: #00af00; text-decoration-color: #00af00\">1</span>)              │            <span style=\"color: #00af00; text-decoration-color: #00af00\">33</span> │\n",
       "├─────────────────────────────────┼────────────────────────┼───────────────┤\n",
       "│ activation_2 (<span style=\"color: #0087ff; text-decoration-color: #0087ff\">Activation</span>)       │ (<span style=\"color: #00d7ff; text-decoration-color: #00d7ff\">None</span>, <span style=\"color: #00af00; text-decoration-color: #00af00\">1</span>)              │             <span style=\"color: #00af00; text-decoration-color: #00af00\">0</span> │\n",
       "└─────────────────────────────────┴────────────────────────┴───────────────┘\n",
       "</pre>\n"
      ],
      "text/plain": [
       "┏━━━━━━━━━━━━━━━━━━━━━━━━━━━━━━━━━┳━━━━━━━━━━━━━━━━━━━━━━━━┳━━━━━━━━━━━━━━━┓\n",
       "┃\u001b[1m \u001b[0m\u001b[1mLayer (type)                   \u001b[0m\u001b[1m \u001b[0m┃\u001b[1m \u001b[0m\u001b[1mOutput Shape          \u001b[0m\u001b[1m \u001b[0m┃\u001b[1m \u001b[0m\u001b[1m      Param #\u001b[0m\u001b[1m \u001b[0m┃\n",
       "┡━━━━━━━━━━━━━━━━━━━━━━━━━━━━━━━━━╇━━━━━━━━━━━━━━━━━━━━━━━━╇━━━━━━━━━━━━━━━┩\n",
       "│ dense (\u001b[38;5;33mDense\u001b[0m)                   │ (\u001b[38;5;45mNone\u001b[0m, \u001b[38;5;34m256\u001b[0m)            │         \u001b[38;5;34m2,560\u001b[0m │\n",
       "├─────────────────────────────────┼────────────────────────┼───────────────┤\n",
       "│ activation (\u001b[38;5;33mActivation\u001b[0m)         │ (\u001b[38;5;45mNone\u001b[0m, \u001b[38;5;34m256\u001b[0m)            │             \u001b[38;5;34m0\u001b[0m │\n",
       "├─────────────────────────────────┼────────────────────────┼───────────────┤\n",
       "│ dense_1 (\u001b[38;5;33mDense\u001b[0m)                 │ (\u001b[38;5;45mNone\u001b[0m, \u001b[38;5;34m32\u001b[0m)             │         \u001b[38;5;34m8,224\u001b[0m │\n",
       "├─────────────────────────────────┼────────────────────────┼───────────────┤\n",
       "│ activation_1 (\u001b[38;5;33mActivation\u001b[0m)       │ (\u001b[38;5;45mNone\u001b[0m, \u001b[38;5;34m32\u001b[0m)             │             \u001b[38;5;34m0\u001b[0m │\n",
       "├─────────────────────────────────┼────────────────────────┼───────────────┤\n",
       "│ dense_2 (\u001b[38;5;33mDense\u001b[0m)                 │ (\u001b[38;5;45mNone\u001b[0m, \u001b[38;5;34m1\u001b[0m)              │            \u001b[38;5;34m33\u001b[0m │\n",
       "├─────────────────────────────────┼────────────────────────┼───────────────┤\n",
       "│ activation_2 (\u001b[38;5;33mActivation\u001b[0m)       │ (\u001b[38;5;45mNone\u001b[0m, \u001b[38;5;34m1\u001b[0m)              │             \u001b[38;5;34m0\u001b[0m │\n",
       "└─────────────────────────────────┴────────────────────────┴───────────────┘\n"
      ]
     },
     "metadata": {},
     "output_type": "display_data"
    },
    {
     "data": {
      "text/html": [
       "<pre style=\"white-space:pre;overflow-x:auto;line-height:normal;font-family:Menlo,'DejaVu Sans Mono',consolas,'Courier New',monospace\"><span style=\"font-weight: bold\"> Total params: </span><span style=\"color: #00af00; text-decoration-color: #00af00\">10,817</span> (42.25 KB)\n",
       "</pre>\n"
      ],
      "text/plain": [
       "\u001b[1m Total params: \u001b[0m\u001b[38;5;34m10,817\u001b[0m (42.25 KB)\n"
      ]
     },
     "metadata": {},
     "output_type": "display_data"
    },
    {
     "data": {
      "text/html": [
       "<pre style=\"white-space:pre;overflow-x:auto;line-height:normal;font-family:Menlo,'DejaVu Sans Mono',consolas,'Courier New',monospace\"><span style=\"font-weight: bold\"> Trainable params: </span><span style=\"color: #00af00; text-decoration-color: #00af00\">10,817</span> (42.25 KB)\n",
       "</pre>\n"
      ],
      "text/plain": [
       "\u001b[1m Trainable params: \u001b[0m\u001b[38;5;34m10,817\u001b[0m (42.25 KB)\n"
      ]
     },
     "metadata": {},
     "output_type": "display_data"
    },
    {
     "data": {
      "text/html": [
       "<pre style=\"white-space:pre;overflow-x:auto;line-height:normal;font-family:Menlo,'DejaVu Sans Mono',consolas,'Courier New',monospace\"><span style=\"font-weight: bold\"> Non-trainable params: </span><span style=\"color: #00af00; text-decoration-color: #00af00\">0</span> (0.00 B)\n",
       "</pre>\n"
      ],
      "text/plain": [
       "\u001b[1m Non-trainable params: \u001b[0m\u001b[38;5;34m0\u001b[0m (0.00 B)\n"
      ]
     },
     "metadata": {},
     "output_type": "display_data"
    }
   ],
   "source": [
    "# Prepare data for modeling\n",
    "X = option_df[['underlying_price', 'strike_price', 'hist_volatility', 'delta', 'gamma', 'vega', 'theta', 'rho', 'time_to_expiry']]\n",
    "y = option_df['equilibrium_price']\n",
    "\n",
    "\n",
    "# Train-test split\n",
    "X_train, X_test, y_train, y_test = train_test_split(X, y, test_size=0.2, random_state=42)\n",
    "\n",
    "# Create model \n",
    "model = Sequential()\n",
    "\n",
    "\n",
    "# Scale data\n",
    "scaler = StandardScaler()\n",
    "X_train_scaled = scaler.fit_transform(X_train)\n",
    "X_test_scaled = scaler.transform(X_test)\n",
    "\n",
    "# Add first layer without ativation\n",
    "model.add(Dense(n_units_per_layer[0], input_shape=(X_train_scaled.shape[1],)))\n",
    "model.add(Activation('relu'))\n",
    "\n",
    "# Define Keras MLP model using LeakyReLU in subsequent layers\n",
    "for i in range(1, layers - 1):\n",
    "    model.add(Dense(n_units_per_layer[i]))\n",
    "    model.add(Activation('relu'))\n",
    "\n",
    "# Add last layer\n",
    "model.add(Dense(n_units_per_layer[-1]))\n",
    "model.add(Activation('relu'))\n",
    "\n",
    "# Learning rate scheduling\n",
    "def scheduler(epoch, lr):\n",
    "    if epoch % 10 == 0 and epoch != 0:\n",
    "        return lr * 0.1  # reduce LR by 10x every 10 epochs\n",
    "    return lr\n",
    "\n",
    "lr_callback = LearningRateScheduler(scheduler)\n",
    "\n",
    "early_stop = EarlyStopping(\n",
    "    monitor='val_loss',       # what to monitor\n",
    "    patience=5,               # how many epochs to wait before stopping\n",
    "    restore_best_weights=True,  # restores weights from best epoch\n",
    "    verbose=1\n",
    ")\n",
    "\n",
    "model.compile(optimizer='adam', loss='mean_squared_error', metrics=['mae'])\n",
    "model.summary()"
   ]
  },
  {
   "cell_type": "markdown",
   "metadata": {},
   "source": [
    "# Train model"
   ]
  },
  {
   "cell_type": "code",
   "execution_count": 5,
   "metadata": {},
   "outputs": [
    {
     "name": "stdout",
     "output_type": "stream",
     "text": [
      "Epoch 1/50\n",
      "\u001b[1m969/969\u001b[0m \u001b[32m━━━━━━━━━━━━━━━━━━━━\u001b[0m\u001b[37m\u001b[0m \u001b[1m3s\u001b[0m 2ms/step - loss: 1050.8749 - mae: 14.3836 - val_loss: 3.6946 - val_mae: 1.1892 - learning_rate: 0.0010\n",
      "Epoch 2/50\n",
      "\u001b[1m969/969\u001b[0m \u001b[32m━━━━━━━━━━━━━━━━━━━━\u001b[0m\u001b[37m\u001b[0m \u001b[1m2s\u001b[0m 2ms/step - loss: 3.1642 - mae: 1.0462 - val_loss: 1.9606 - val_mae: 0.7368 - learning_rate: 0.0010\n",
      "Epoch 3/50\n",
      "\u001b[1m969/969\u001b[0m \u001b[32m━━━━━━━━━━━━━━━━━━━━\u001b[0m\u001b[37m\u001b[0m \u001b[1m2s\u001b[0m 2ms/step - loss: 1.9662 - mae: 0.6897 - val_loss: 1.3286 - val_mae: 0.5587 - learning_rate: 0.0010\n",
      "Epoch 4/50\n",
      "\u001b[1m969/969\u001b[0m \u001b[32m━━━━━━━━━━━━━━━━━━━━\u001b[0m\u001b[37m\u001b[0m \u001b[1m2s\u001b[0m 2ms/step - loss: 1.2700 - mae: 0.5364 - val_loss: 0.9893 - val_mae: 0.4488 - learning_rate: 0.0010\n",
      "Epoch 5/50\n",
      "\u001b[1m969/969\u001b[0m \u001b[32m━━━━━━━━━━━━━━━━━━━━\u001b[0m\u001b[37m\u001b[0m \u001b[1m2s\u001b[0m 2ms/step - loss: 1.0260 - mae: 0.4301 - val_loss: 0.8307 - val_mae: 0.3783 - learning_rate: 0.0010\n",
      "Epoch 6/50\n",
      "\u001b[1m969/969\u001b[0m \u001b[32m━━━━━━━━━━━━━━━━━━━━\u001b[0m\u001b[37m\u001b[0m \u001b[1m2s\u001b[0m 2ms/step - loss: 0.9225 - mae: 0.3678 - val_loss: 0.7168 - val_mae: 0.3305 - learning_rate: 0.0010\n",
      "Epoch 7/50\n",
      "\u001b[1m969/969\u001b[0m \u001b[32m━━━━━━━━━━━━━━━━━━━━\u001b[0m\u001b[37m\u001b[0m \u001b[1m2s\u001b[0m 2ms/step - loss: 0.9339 - mae: 0.3401 - val_loss: 0.6822 - val_mae: 0.3172 - learning_rate: 0.0010\n",
      "Epoch 8/50\n",
      "\u001b[1m969/969\u001b[0m \u001b[32m━━━━━━━━━━━━━━━━━━━━\u001b[0m\u001b[37m\u001b[0m \u001b[1m2s\u001b[0m 2ms/step - loss: 0.7408 - mae: 0.3104 - val_loss: 0.6378 - val_mae: 0.2879 - learning_rate: 0.0010\n",
      "Epoch 9/50\n",
      "\u001b[1m969/969\u001b[0m \u001b[32m━━━━━━━━━━━━━━━━━━━━\u001b[0m\u001b[37m\u001b[0m \u001b[1m2s\u001b[0m 2ms/step - loss: 0.6319 - mae: 0.3084 - val_loss: 0.6386 - val_mae: 0.2887 - learning_rate: 0.0010\n",
      "Epoch 10/50\n",
      "\u001b[1m969/969\u001b[0m \u001b[32m━━━━━━━━━━━━━━━━━━━━\u001b[0m\u001b[37m\u001b[0m \u001b[1m2s\u001b[0m 2ms/step - loss: 0.7257 - mae: 0.2954 - val_loss: 0.6566 - val_mae: 0.2895 - learning_rate: 0.0010\n",
      "Epoch 11/50\n",
      "\u001b[1m969/969\u001b[0m \u001b[32m━━━━━━━━━━━━━━━━━━━━\u001b[0m\u001b[37m\u001b[0m \u001b[1m2s\u001b[0m 2ms/step - loss: 0.7606 - mae: 0.2668 - val_loss: 0.5953 - val_mae: 0.2632 - learning_rate: 1.0000e-04\n",
      "Epoch 12/50\n",
      "\u001b[1m969/969\u001b[0m \u001b[32m━━━━━━━━━━━━━━━━━━━━\u001b[0m\u001b[37m\u001b[0m \u001b[1m2s\u001b[0m 2ms/step - loss: 0.6978 - mae: 0.2627 - val_loss: 0.5922 - val_mae: 0.2599 - learning_rate: 1.0000e-04\n",
      "Epoch 13/50\n",
      "\u001b[1m969/969\u001b[0m \u001b[32m━━━━━━━━━━━━━━━━━━━━\u001b[0m\u001b[37m\u001b[0m \u001b[1m2s\u001b[0m 2ms/step - loss: 0.7944 - mae: 0.2636 - val_loss: 0.5904 - val_mae: 0.2577 - learning_rate: 1.0000e-04\n",
      "Epoch 14/50\n",
      "\u001b[1m969/969\u001b[0m \u001b[32m━━━━━━━━━━━━━━━━━━━━\u001b[0m\u001b[37m\u001b[0m \u001b[1m2s\u001b[0m 2ms/step - loss: 0.6872 - mae: 0.2609 - val_loss: 0.5880 - val_mae: 0.2563 - learning_rate: 1.0000e-04\n",
      "Epoch 15/50\n",
      "\u001b[1m969/969\u001b[0m \u001b[32m━━━━━━━━━━━━━━━━━━━━\u001b[0m\u001b[37m\u001b[0m \u001b[1m2s\u001b[0m 2ms/step - loss: 0.7175 - mae: 0.2592 - val_loss: 0.5835 - val_mae: 0.2544 - learning_rate: 1.0000e-04\n",
      "Epoch 16/50\n",
      "\u001b[1m969/969\u001b[0m \u001b[32m━━━━━━━━━━━━━━━━━━━━\u001b[0m\u001b[37m\u001b[0m \u001b[1m2s\u001b[0m 2ms/step - loss: 0.7017 - mae: 0.2566 - val_loss: 0.5821 - val_mae: 0.2524 - learning_rate: 1.0000e-04\n",
      "Epoch 17/50\n",
      "\u001b[1m969/969\u001b[0m \u001b[32m━━━━━━━━━━━━━━━━━━━━\u001b[0m\u001b[37m\u001b[0m \u001b[1m2s\u001b[0m 2ms/step - loss: 0.6611 - mae: 0.2540 - val_loss: 0.5797 - val_mae: 0.2506 - learning_rate: 1.0000e-04\n",
      "Epoch 18/50\n",
      "\u001b[1m969/969\u001b[0m \u001b[32m━━━━━━━━━━━━━━━━━━━━\u001b[0m\u001b[37m\u001b[0m \u001b[1m2s\u001b[0m 2ms/step - loss: 0.7709 - mae: 0.2537 - val_loss: 0.5765 - val_mae: 0.2481 - learning_rate: 1.0000e-04\n",
      "Epoch 19/50\n",
      "\u001b[1m969/969\u001b[0m \u001b[32m━━━━━━━━━━━━━━━━━━━━\u001b[0m\u001b[37m\u001b[0m \u001b[1m3s\u001b[0m 3ms/step - loss: 0.6334 - mae: 0.2493 - val_loss: 0.5753 - val_mae: 0.2506 - learning_rate: 1.0000e-04\n",
      "Epoch 20/50\n",
      "\u001b[1m969/969\u001b[0m \u001b[32m━━━━━━━━━━━━━━━━━━━━\u001b[0m\u001b[37m\u001b[0m \u001b[1m2s\u001b[0m 2ms/step - loss: 0.7107 - mae: 0.2488 - val_loss: 0.5725 - val_mae: 0.2444 - learning_rate: 1.0000e-04\n",
      "Epoch 21/50\n",
      "\u001b[1m969/969\u001b[0m \u001b[32m━━━━━━━━━━━━━━━━━━━━\u001b[0m\u001b[37m\u001b[0m \u001b[1m2s\u001b[0m 2ms/step - loss: 0.6542 - mae: 0.2437 - val_loss: 0.5685 - val_mae: 0.2422 - learning_rate: 1.0000e-05\n",
      "Epoch 22/50\n",
      "\u001b[1m969/969\u001b[0m \u001b[32m━━━━━━━━━━━━━━━━━━━━\u001b[0m\u001b[37m\u001b[0m \u001b[1m2s\u001b[0m 2ms/step - loss: 0.6587 - mae: 0.2429 - val_loss: 0.5681 - val_mae: 0.2410 - learning_rate: 1.0000e-05\n",
      "Epoch 23/50\n",
      "\u001b[1m969/969\u001b[0m \u001b[32m━━━━━━━━━━━━━━━━━━━━\u001b[0m\u001b[37m\u001b[0m \u001b[1m2s\u001b[0m 2ms/step - loss: 0.6887 - mae: 0.2430 - val_loss: 0.5678 - val_mae: 0.2413 - learning_rate: 1.0000e-05\n",
      "Epoch 24/50\n",
      "\u001b[1m969/969\u001b[0m \u001b[32m━━━━━━━━━━━━━━━━━━━━\u001b[0m\u001b[37m\u001b[0m \u001b[1m2s\u001b[0m 2ms/step - loss: 0.6121 - mae: 0.2418 - val_loss: 0.5674 - val_mae: 0.2413 - learning_rate: 1.0000e-05\n",
      "Epoch 25/50\n",
      "\u001b[1m969/969\u001b[0m \u001b[32m━━━━━━━━━━━━━━━━━━━━\u001b[0m\u001b[37m\u001b[0m \u001b[1m2s\u001b[0m 2ms/step - loss: 0.6796 - mae: 0.2429 - val_loss: 0.5677 - val_mae: 0.2407 - learning_rate: 1.0000e-05\n",
      "Epoch 26/50\n",
      "\u001b[1m969/969\u001b[0m \u001b[32m━━━━━━━━━━━━━━━━━━━━\u001b[0m\u001b[37m\u001b[0m \u001b[1m2s\u001b[0m 2ms/step - loss: 0.6839 - mae: 0.2424 - val_loss: 0.5669 - val_mae: 0.2403 - learning_rate: 1.0000e-05\n",
      "Epoch 27/50\n",
      "\u001b[1m969/969\u001b[0m \u001b[32m━━━━━━━━━━━━━━━━━━━━\u001b[0m\u001b[37m\u001b[0m \u001b[1m2s\u001b[0m 2ms/step - loss: 0.7199 - mae: 0.2426 - val_loss: 0.5666 - val_mae: 0.2396 - learning_rate: 1.0000e-05\n",
      "Epoch 28/50\n",
      "\u001b[1m969/969\u001b[0m \u001b[32m━━━━━━━━━━━━━━━━━━━━\u001b[0m\u001b[37m\u001b[0m \u001b[1m2s\u001b[0m 2ms/step - loss: 0.6474 - mae: 0.2408 - val_loss: 0.5661 - val_mae: 0.2398 - learning_rate: 1.0000e-05\n",
      "Epoch 29/50\n",
      "\u001b[1m969/969\u001b[0m \u001b[32m━━━━━━━━━━━━━━━━━━━━\u001b[0m\u001b[37m\u001b[0m \u001b[1m2s\u001b[0m 2ms/step - loss: 0.7133 - mae: 0.2419 - val_loss: 0.5657 - val_mae: 0.2395 - learning_rate: 1.0000e-05\n",
      "Epoch 30/50\n",
      "\u001b[1m969/969\u001b[0m \u001b[32m━━━━━━━━━━━━━━━━━━━━\u001b[0m\u001b[37m\u001b[0m \u001b[1m2s\u001b[0m 2ms/step - loss: 0.7893 - mae: 0.2424 - val_loss: 0.5653 - val_mae: 0.2390 - learning_rate: 1.0000e-05\n",
      "Epoch 31/50\n",
      "\u001b[1m969/969\u001b[0m \u001b[32m━━━━━━━━━━━━━━━━━━━━\u001b[0m\u001b[37m\u001b[0m \u001b[1m2s\u001b[0m 2ms/step - loss: 0.6235 - mae: 0.2403 - val_loss: 0.5651 - val_mae: 0.2390 - learning_rate: 1.0000e-06\n",
      "Epoch 32/50\n",
      "\u001b[1m969/969\u001b[0m \u001b[32m━━━━━━━━━━━━━━━━━━━━\u001b[0m\u001b[37m\u001b[0m \u001b[1m2s\u001b[0m 2ms/step - loss: 0.5858 - mae: 0.2396 - val_loss: 0.5651 - val_mae: 0.2390 - learning_rate: 1.0000e-06\n",
      "Epoch 33/50\n",
      "\u001b[1m969/969\u001b[0m \u001b[32m━━━━━━━━━━━━━━━━━━━━\u001b[0m\u001b[37m\u001b[0m \u001b[1m2s\u001b[0m 2ms/step - loss: 0.6130 - mae: 0.2404 - val_loss: 0.5651 - val_mae: 0.2388 - learning_rate: 1.0000e-06\n",
      "Epoch 34/50\n",
      "\u001b[1m969/969\u001b[0m \u001b[32m━━━━━━━━━━━━━━━━━━━━\u001b[0m\u001b[37m\u001b[0m \u001b[1m2s\u001b[0m 2ms/step - loss: 0.7428 - mae: 0.2413 - val_loss: 0.5650 - val_mae: 0.2388 - learning_rate: 1.0000e-06\n",
      "Epoch 35/50\n",
      "\u001b[1m969/969\u001b[0m \u001b[32m━━━━━━━━━━━━━━━━━━━━\u001b[0m\u001b[37m\u001b[0m \u001b[1m2s\u001b[0m 2ms/step - loss: 0.5412 - mae: 0.2390 - val_loss: 0.5650 - val_mae: 0.2388 - learning_rate: 1.0000e-06\n",
      "Epoch 36/50\n",
      "\u001b[1m969/969\u001b[0m \u001b[32m━━━━━━━━━━━━━━━━━━━━\u001b[0m\u001b[37m\u001b[0m \u001b[1m2s\u001b[0m 2ms/step - loss: 0.7378 - mae: 0.2413 - val_loss: 0.5650 - val_mae: 0.2386 - learning_rate: 1.0000e-06\n",
      "Epoch 37/50\n",
      "\u001b[1m969/969\u001b[0m \u001b[32m━━━━━━━━━━━━━━━━━━━━\u001b[0m\u001b[37m\u001b[0m \u001b[1m2s\u001b[0m 2ms/step - loss: 0.5272 - mae: 0.2387 - val_loss: 0.5649 - val_mae: 0.2387 - learning_rate: 1.0000e-06\n",
      "Epoch 38/50\n",
      "\u001b[1m969/969\u001b[0m \u001b[32m━━━━━━━━━━━━━━━━━━━━\u001b[0m\u001b[37m\u001b[0m \u001b[1m2s\u001b[0m 2ms/step - loss: 0.7067 - mae: 0.2417 - val_loss: 0.5649 - val_mae: 0.2387 - learning_rate: 1.0000e-06\n",
      "Epoch 39/50\n",
      "\u001b[1m969/969\u001b[0m \u001b[32m━━━━━━━━━━━━━━━━━━━━\u001b[0m\u001b[37m\u001b[0m \u001b[1m2s\u001b[0m 2ms/step - loss: 0.6782 - mae: 0.2411 - val_loss: 0.5649 - val_mae: 0.2386 - learning_rate: 1.0000e-06\n",
      "Epoch 40/50\n",
      "\u001b[1m969/969\u001b[0m \u001b[32m━━━━━━━━━━━━━━━━━━━━\u001b[0m\u001b[37m\u001b[0m \u001b[1m2s\u001b[0m 2ms/step - loss: 0.6348 - mae: 0.2405 - val_loss: 0.5648 - val_mae: 0.2386 - learning_rate: 1.0000e-06\n",
      "Epoch 41/50\n",
      "\u001b[1m969/969\u001b[0m \u001b[32m━━━━━━━━━━━━━━━━━━━━\u001b[0m\u001b[37m\u001b[0m \u001b[1m2s\u001b[0m 2ms/step - loss: 0.6757 - mae: 0.2402 - val_loss: 0.5648 - val_mae: 0.2387 - learning_rate: 1.0000e-07\n",
      "Epoch 42/50\n",
      "\u001b[1m969/969\u001b[0m \u001b[32m━━━━━━━━━━━━━━━━━━━━\u001b[0m\u001b[37m\u001b[0m \u001b[1m2s\u001b[0m 2ms/step - loss: 0.7180 - mae: 0.2406 - val_loss: 0.5648 - val_mae: 0.2386 - learning_rate: 1.0000e-07\n",
      "Epoch 43/50\n",
      "\u001b[1m969/969\u001b[0m \u001b[32m━━━━━━━━━━━━━━━━━━━━\u001b[0m\u001b[37m\u001b[0m \u001b[1m2s\u001b[0m 2ms/step - loss: 0.7693 - mae: 0.2419 - val_loss: 0.5648 - val_mae: 0.2386 - learning_rate: 1.0000e-07\n",
      "Epoch 44/50\n",
      "\u001b[1m969/969\u001b[0m \u001b[32m━━━━━━━━━━━━━━━━━━━━\u001b[0m\u001b[37m\u001b[0m \u001b[1m2s\u001b[0m 2ms/step - loss: 0.6841 - mae: 0.2411 - val_loss: 0.5648 - val_mae: 0.2387 - learning_rate: 1.0000e-07\n",
      "Epoch 45/50\n",
      "\u001b[1m969/969\u001b[0m \u001b[32m━━━━━━━━━━━━━━━━━━━━\u001b[0m\u001b[37m\u001b[0m \u001b[1m2s\u001b[0m 2ms/step - loss: 0.5710 - mae: 0.2398 - val_loss: 0.5648 - val_mae: 0.2386 - learning_rate: 1.0000e-07\n",
      "Epoch 46/50\n",
      "\u001b[1m969/969\u001b[0m \u001b[32m━━━━━━━━━━━━━━━━━━━━\u001b[0m\u001b[37m\u001b[0m \u001b[1m2s\u001b[0m 2ms/step - loss: 0.6546 - mae: 0.2402 - val_loss: 0.5648 - val_mae: 0.2386 - learning_rate: 1.0000e-07\n",
      "Epoch 47/50\n",
      "\u001b[1m969/969\u001b[0m \u001b[32m━━━━━━━━━━━━━━━━━━━━\u001b[0m\u001b[37m\u001b[0m \u001b[1m2s\u001b[0m 2ms/step - loss: 0.6065 - mae: 0.2400 - val_loss: 0.5648 - val_mae: 0.2385 - learning_rate: 1.0000e-07\n",
      "Epoch 48/50\n",
      "\u001b[1m969/969\u001b[0m \u001b[32m━━━━━━━━━━━━━━━━━━━━\u001b[0m\u001b[37m\u001b[0m \u001b[1m2s\u001b[0m 2ms/step - loss: 0.7262 - mae: 0.2405 - val_loss: 0.5648 - val_mae: 0.2385 - learning_rate: 1.0000e-07\n",
      "Epoch 49/50\n",
      "\u001b[1m969/969\u001b[0m \u001b[32m━━━━━━━━━━━━━━━━━━━━\u001b[0m\u001b[37m\u001b[0m \u001b[1m2s\u001b[0m 2ms/step - loss: 0.6242 - mae: 0.2402 - val_loss: 0.5648 - val_mae: 0.2386 - learning_rate: 1.0000e-07\n",
      "Epoch 50/50\n",
      "\u001b[1m969/969\u001b[0m \u001b[32m━━━━━━━━━━━━━━━━━━━━\u001b[0m\u001b[37m\u001b[0m \u001b[1m2s\u001b[0m 2ms/step - loss: 0.7064 - mae: 0.2401 - val_loss: 0.5648 - val_mae: 0.2386 - learning_rate: 1.0000e-07\n",
      "Restoring model weights from the end of the best epoch: 50.\n",
      "\u001b[1m9685/9685\u001b[0m \u001b[32m━━━━━━━━━━━━━━━━━━━━\u001b[0m\u001b[37m\u001b[0m \u001b[1m8s\u001b[0m 860us/step - loss: 0.8725 - mae: 0.2439\n"
     ]
    },
    {
     "name": "stderr",
     "output_type": "stream",
     "text": [
      "WARNING:absl:You are saving your model as an HDF5 file via `model.save()` or `keras.saving.save_model(model)`. This file format is considered legacy. We recommend using instead the native Keras format, e.g. `model.save('my_model.keras')` or `keras.saving.save_model(model, 'my_model.keras')`. \n"
     ]
    },
    {
     "name": "stdout",
     "output_type": "stream",
     "text": [
      "Test MAE: 0.2416796088218689\n"
     ]
    }
   ],
   "source": [
    "# Train the model\n",
    "history = model.fit(X_train_scaled, y_train, epochs=n_epochs, batch_size=n_batch, validation_split=0.2, verbose=1, callbacks=[lr_callback, early_stop])\n",
    "\n",
    "# Evaluate the model\n",
    "loss, mae = model.evaluate(X_test_scaled, y_test)\n",
    "print(f\"Test MAE: {mae}\")\n",
    "\n",
    "# Save the model\n",
    "model.save(model_file)"
   ]
  },
  {
   "cell_type": "markdown",
   "metadata": {},
   "source": [
    "# Plot the loss"
   ]
  },
  {
   "cell_type": "code",
   "execution_count": 6,
   "metadata": {},
   "outputs": [
    {
     "data": {
      "image/png": "[encoded data removed]",
      "text/plain": [
       "<Figure size 800x500 with 1 Axes>"
      ]
     },
     "metadata": {},
     "output_type": "display_data"
    }
   ],
   "source": [
    "# Plot training and validation loss\n",
    "plt.figure(figsize=(8,5))\n",
    "\n",
    "eps = 1e-10  # tiny number to avoid log(0)\n",
    "plt.plot(np.log(np.array(history.history['loss']) + eps), label='Log Training Loss')\n",
    "plt.plot(np.log(np.array(history.history['val_loss']) + eps), label='Log Validation Loss')\n",
    "plt.xlabel('Epoch')\n",
    "plt.ylabel('Log Loss (Log MSE)')\n",
    "plt.title(f'Training and Validation Log Loss Over Epochs ({option_type} options)')\n",
    "plt.legend()\n",
    "plt.grid(True)\n",
    "plt.show()"
   ]
  },
  {
   "cell_type": "markdown",
   "metadata": {},
   "source": [
    "# Plot results"
   ]
  },
  {
   "cell_type": "code",
   "execution_count": 7,
   "metadata": {},
   "outputs": [
    {
     "name": "stderr",
     "output_type": "stream",
     "text": [
      "WARNING:absl:Compiled the loaded model, but the compiled metrics have yet to be built. `model.compile_metrics` will be empty until you train or evaluate the model.\n"
     ]
    },
    {
     "name": "stdout",
     "output_type": "stream",
     "text": [
      "\u001b[1m9685/9685\u001b[0m \u001b[32m━━━━━━━━━━━━━━━━━━━━\u001b[0m\u001b[37m\u001b[0m \u001b[1m5s\u001b[0m 534us/step\n"
     ]
    },
    {
     "data": {
      "image/png": "[encoded data removed]",
      "text/plain": [
       "<Figure size 700x700 with 1 Axes>"
      ]
     },
     "metadata": {},
     "output_type": "display_data"
    }
   ],
   "source": [
    "loaded_model = load_model(model_file)\n",
    "\n",
    "# Predict on test set\n",
    "y_pred = model.predict(X_test_scaled).flatten()\n",
    "\n",
    "# Align y_test to numpy array with matching shape\n",
    "y_test_array = y_test.to_numpy().flatten()\n",
    "\n",
    "# Plot predicted vs actual\n",
    "plt.figure(figsize=(7, 7))\n",
    "plt.scatter(y_test_array, y_pred, s=5, alpha=0.5)\n",
    "plt.xlabel('Actual Equilibrium Price')\n",
    "plt.ylabel('Predicted Equilibrium Price')\n",
    "plt.title('Predicted vs. Actual Equilibrium Prices')\n",
    "plt.grid(True)\n",
    "plt.tight_layout()\n",
    "plt.show()"
   ]
  },
  {
   "cell_type": "markdown",
   "metadata": {},
   "source": [
    "# Test random entries"
   ]
  },
  {
   "cell_type": "code",
   "execution_count": 12,
   "metadata": {},
   "outputs": [
    {
     "name": "stderr",
     "output_type": "stream",
     "text": [
      "WARNING:absl:Compiled the loaded model, but the compiled metrics have yet to be built. `model.compile_metrics` will be empty until you train or evaluate the model.\n"
     ]
    },
    {
     "name": "stdout",
     "output_type": "stream",
     "text": [
      "\u001b[1m1/1\u001b[0m \u001b[32m━━━━━━━━━━━━━━━━━━━━\u001b[0m\u001b[37m\u001b[0m \u001b[1m0s\u001b[0m 55ms/step\n",
      "Entry 1129339 - Predicted price: 0.00, Actual price: 0.01\n",
      "Entry 1179057 - Predicted price: 19.33, Actual price: 19.70\n",
      "Entry 1371370 - Predicted price: 2.79, Actual price: 2.54\n",
      "Entry 745853 - Predicted price: 0.92, Actual price: 1.17\n",
      "Entry 1034964 - Predicted price: 1.60, Actual price: 1.46\n",
      "Entry 1519102 - Predicted price: 66.14, Actual price: 66.55\n",
      "Entry 1434938 - Predicted price: 10.08, Actual price: 9.93\n",
      "Entry 1164729 - Predicted price: 11.94, Actual price: 12.88\n",
      "Entry 1305874 - Predicted price: 2.73, Actual price: 2.45\n",
      "Entry 893064 - Predicted price: 16.64, Actual price: 16.75\n",
      "\u001b[1m9685/9685\u001b[0m \u001b[32m━━━━━━━━━━━━━━━━━━━━\u001b[0m\u001b[37m\u001b[0m \u001b[1m6s\u001b[0m 566us/step\n"
     ]
    },
    {
     "name": "stderr",
     "output_type": "stream",
     "text": [
      "C:\\Users\\Adam Khalil\\AppData\\Local\\Temp\\ipykernel_18304\\3841605036.py:18: RuntimeWarning: divide by zero encountered in divide\n",
      "  percent_error = 100 * diff / y_true\n",
      "C:\\Users\\Adam Khalil\\AppData\\Local\\Temp\\ipykernel_18304\\3841605036.py:18: RuntimeWarning: invalid value encountered in divide\n",
      "  percent_error = 100 * diff / y_true\n"
     ]
    },
    {
     "name": "stdout",
     "output_type": "stream",
     "text": [
      "\n",
      "--- MLP Error Metrics ---\n",
      "Mean Error: -0.0196\n",
      "Median Error: -0.0110\n",
      "Standard Deviation of Error: 0.8558\n",
      "Mean Absolute Error (MAE): 0.2417\n",
      "Root Mean Squared Error (RMSE): 0.8560\n",
      "Mean Absolute Percentage Error (MAPE): nan%\n",
      "Max Error: 9.0808\n",
      "Min Error: -122.5000\n",
      "R² Score: 0.9997\n"
     ]
    },
    {
     "data": {
      "image/png": "[encoded data removed]",
      "text/plain": [
       "<Figure size 800x500 with 1 Axes>"
      ]
     },
     "metadata": {},
     "output_type": "display_data"
    }
   ],
   "source": [
    "# Test 10 random entries\n",
    "loaded_model = load_model(model_file)\n",
    "sample_entries = X.sample(10)\n",
    "sample_scaled = scaler.transform(sample_entries)\n",
    "predictions = loaded_model.predict(sample_scaled)\n",
    "\n",
    "for i, idx in enumerate(sample_entries.index):\n",
    "    print(f\"Entry {idx} - Predicted price: {predictions[i][0]:.2f}, Actual price: {y.loc[idx]:.2f}\")\n",
    "\n",
    "# ---- Full Test Set Error Analysis ----\n",
    "X_test_scaled = scaler.transform(X_test)\n",
    "y_pred = loaded_model.predict(X_test_scaled).flatten()\n",
    "y_true = y_test.values\n",
    "\n",
    "# Compute differences and errors\n",
    "diff = y_pred - y_true\n",
    "abs_error = np.abs(diff)\n",
    "percent_error = 100 * diff / y_true\n",
    "abs_percent_error = np.abs(percent_error)\n",
    "\n",
    "# Metrics\n",
    "mean_diff = np.mean(diff)\n",
    "median_diff = np.median(diff)\n",
    "std_diff = np.std(diff)\n",
    "mae = abs_error.mean()\n",
    "rmse = np.sqrt(np.mean(diff**2))\n",
    "mape = abs_percent_error.mean()\n",
    "max_diff = diff.max()\n",
    "min_diff = diff.min()\n",
    "\n",
    "# Drop NaNs for R² calculation\n",
    "valid = ~np.isnan(y_pred) & ~np.isnan(y_true)\n",
    "r2 = r2_score(y_true[valid], y_pred[valid])\n",
    "\n",
    "# Print metrics\n",
    "print(\"\\n--- MLP Error Metrics ---\")\n",
    "print(f\"Mean Error: {mean_diff:.4f}\")\n",
    "print(f\"Median Error: {median_diff:.4f}\")\n",
    "print(f\"Standard Deviation of Error: {std_diff:.4f}\")\n",
    "print(f\"Mean Absolute Error (MAE): {mae:.4f}\")\n",
    "print(f\"Root Mean Squared Error (RMSE): {rmse:.4f}\")\n",
    "print(f\"Mean Absolute Percentage Error (MAPE): {mape:.2f}%\")\n",
    "print(f\"Max Error: {max_diff:.4f}\")\n",
    "print(f\"Min Error: {min_diff:.4f}\")\n",
    "print(f\"R² Score: {r2:.4f}\")\n",
    "\n",
    "# Plot histogram of errors\n",
    "bins = np.arange(-5, 5, 0.05)\n",
    "\n",
    "plt.figure(figsize=(8, 5))\n",
    "plt.hist(diff, bins=bins, alpha=0.7)\n",
    "plt.xlabel(\"MLP Predicted - Actual Price\")\n",
    "plt.ylabel(\"Frequency\")\n",
    "plt.title(\"MLP1 Error Distribution on Call Options\")\n",
    "plt.xlim([-5, 5])\n",
    "plt.grid(True)\n",
    "plt.show()"
   ]
  }
 ],
 "metadata": {
  "kernelspec": {
   "display_name": ".venv",
   "language": "python",
   "name": "python3"
  },
  "language_info": {
   "codemirror_mode": {
    "name": "ipython",
    "version": 3
   },
   "file_extension": ".py",
   "mimetype": "text/x-python",
   "name": "python",
   "nbconvert_exporter": "python",
   "pygments_lexer": "ipython3",
   "version": "3.12.9"
  }
 },
 "nbformat": 4,
 "nbformat_minor": 2
}
