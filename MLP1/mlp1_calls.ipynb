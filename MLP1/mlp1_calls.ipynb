{
 "cells": [
  {
   "cell_type": "markdown",
   "metadata": {},
   "source": [
    "# Imports"
   ]
  },
  {
   "cell_type": "code",
   "execution_count": 2,
   "metadata": {},
   "outputs": [],
   "source": [
    "import pandas as pd\n",
    "import numpy as np\n",
    "from sklearn.model_selection import train_test_split\n",
    "from sklearn.preprocessing import StandardScaler\n",
    "import tensorflow as tf\n",
    "from tensorflow.keras.models import Sequential, load_model\n",
    "from tensorflow.keras.layers import Dense, LeakyReLU, BatchNormalization\n",
    "from tensorflow.keras.optimizers import Adam\n",
    "from tensorflow.keras.callbacks import LearningRateScheduler\n",
    "import matplotlib.pyplot as plt"
   ]
  },
  {
   "cell_type": "markdown",
   "metadata": {},
   "source": [
    "# Pre-Processing"
   ]
  },
  {
   "cell_type": "code",
   "execution_count": 3,
   "metadata": {},
   "outputs": [
    {
     "name": "stdout",
     "output_type": "stream",
     "text": [
      "         underlying_price  strike_price  hist_volatility    delta    gamma  \\\n",
      "1242493            169.84        0.1000         0.338284  0.96702  0.00142   \n",
      "359574             234.37        0.2250         0.219579  0.65691  0.01437   \n",
      "349256             204.36        0.0800         0.123749  1.00000  0.00000   \n",
      "600536             165.42        0.2325         0.388814  0.00112  0.00022   \n",
      "739685              96.62        0.0970         0.385465  0.50219  0.04255   \n",
      "982743             462.08        0.3700         0.488486  0.92496  0.00085   \n",
      "183534             390.90        0.1400         0.250082  0.85804  0.00006   \n",
      "1498108            146.75        0.1400         0.227281  0.62684  0.01197   \n",
      "1394955            162.37        0.0950         0.220921  0.98632  0.00075   \n",
      "263278             246.60        0.1600         1.080739  1.00000  0.00000   \n",
      "\n",
      "            vega    theta      rho  equilibrium_price  time_to_expiry  \n",
      "1242493  0.06186 -0.02192  0.22761             70.625        0.240986  \n",
      "359574   0.36504 -0.06734  0.22482             15.150        0.178192  \n",
      "349256   0.00000  0.00000  0.00000            124.030        2.147945  \n",
      "600536   0.00158 -0.00192  0.00031              0.005        0.038356  \n",
      "739685   0.13685 -0.04038  0.05433              3.555        0.123178  \n",
      "982743   0.09941 -0.36599  0.03266             93.055        0.027397  \n",
      "183534   0.43462 -0.04237  0.25784            251.730        1.175342  \n",
      "1498108  0.41415 -0.02922  0.48686             15.875        0.556164  \n",
      "1394955  0.01927 -0.01708  0.12848             67.825        0.136986  \n",
      "263278   0.00000  0.00000  0.00000             86.400        0.008219  \n"
     ]
    }
   ],
   "source": [
    "# Load and combine data\n",
    "PATH_TO_FILE_1 = \"../raw data/aapl_2016_2020.csv\"\n",
    "PATH_TO_FILE_2 = \"../raw data/aapl_2021_2023.csv\"\n",
    "half_1 = pd.read_csv(PATH_TO_FILE_1, low_memory=False)\n",
    "half_2 = pd.read_csv(PATH_TO_FILE_2, low_memory=False)\n",
    "df = pd.concat([half_1, half_2], ignore_index=True)\n",
    "df.columns = df.columns.str.strip()\n",
    "\n",
    "# Option type\n",
    "option_type = \"call\"\n",
    "\n",
    "# Convert Unix timestamps to datetime\n",
    "df['QUOTE_DATETIME'] = pd.to_datetime(df['[QUOTE_UNIXTIME]'], unit='s')\n",
    "df['EXPIRE_DATETIME'] = pd.to_datetime(df['[EXPIRE_UNIX]'], unit='s')\n",
    "\n",
    "# Load underlying price data for volatility computation\n",
    "underlying_prices = df[['QUOTE_DATETIME', '[UNDERLYING_LAST]']].drop_duplicates().set_index('QUOTE_DATETIME').sort_index()\n",
    "\n",
    "# Function to compute historical volatility\n",
    "def historical_volatility(series, window=20):\n",
    "    return np.sqrt(252) * series.pct_change().rolling(window=window).std()\n",
    "\n",
    "# Compute 20-day historical volatility\n",
    "underlying_prices['hist_vol_20d'] = historical_volatility(underlying_prices['[UNDERLYING_LAST]'])\n",
    "underlying_prices.dropna(inplace=True)\n",
    "\n",
    "# Merge historical volatility back into main dataframe\n",
    "df = df.merge(underlying_prices[['hist_vol_20d']], left_on='QUOTE_DATETIME', right_index=True, how='inner')\n",
    "\n",
    "# Columns to numeric conversion: choose columns based on option type\n",
    "if option_type == 'call':\n",
    "    numeric_cols = ['[UNDERLYING_LAST]', '[DTE]', '[STRIKE]', '[C_DELTA]', '[C_GAMMA]', '[C_VEGA]',\n",
    "                    '[C_THETA]', '[C_RHO]', '[C_BID]', '[C_ASK]']\n",
    "else:\n",
    "    numeric_cols = ['[UNDERLYING_LAST]', '[DTE]', '[STRIKE]', '[P_DELTA]', '[P_GAMMA]', '[P_VEGA]',\n",
    "                    '[P_THETA]', '[P_RHO]', '[P_BID]', '[P_ASK]']\n",
    "\n",
    "df[numeric_cols] = df[numeric_cols].apply(pd.to_numeric, errors='coerce')\n",
    "\n",
    "# Calculate mid-price based on option type\n",
    "if option_type == 'call':\n",
    "    df['CALL_EQUI_PRICE'] = (df['[C_BID]'] + df['[C_ASK]']) / 2\n",
    "else:\n",
    "    df['PUT_EQUI_PRICE'] = (df['[P_BID]'] + df['[P_ASK]']) / 2\n",
    "\n",
    "# Drop rows with missing essential data (dynamically chosen based on option type)\n",
    "essential_cols = ['[UNDERLYING_LAST]', '[DTE]', '[STRIKE]', 'hist_vol_20d']\n",
    "if option_type == 'call':\n",
    "    essential_cols.append('CALL_EQUI_PRICE')\n",
    "else:\n",
    "    essential_cols.append('PUT_EQUI_PRICE')\n",
    "df.dropna(subset=essential_cols, inplace=True)\n",
    "\n",
    "# Prepare option data based on the option type\n",
    "if option_type == 'call':\n",
    "    option_cols = ['[UNDERLYING_LAST]', '[STRIKE]', '[DTE]', 'hist_vol_20d', \n",
    "                   '[C_DELTA]', '[C_GAMMA]', '[C_VEGA]', '[C_THETA]', '[C_RHO]', 'CALL_EQUI_PRICE']\n",
    "    col_rename = ['underlying_price', 'strike_price', 'days_to_expiry', 'hist_volatility', \n",
    "                  'delta', 'gamma', 'vega', 'theta', 'rho', 'equilibrium_price']\n",
    "    output_file = 'processed_calls_data.csv'\n",
    "    model_file = 'option_pricing_mlp_model_call.h5'\n",
    "else:\n",
    "    option_cols = ['[UNDERLYING_LAST]', '[STRIKE]', '[DTE]', 'hist_vol_20d', \n",
    "                   '[P_DELTA]', '[P_GAMMA]', '[P_VEGA]', '[P_THETA]', '[P_RHO]', 'PUT_EQUI_PRICE']\n",
    "    col_rename = ['underlying_price', 'strike_price', 'days_to_expiry', 'hist_volatility', \n",
    "                  'delta', 'gamma', 'vega', 'theta', 'rho', 'equilibrium_price']\n",
    "    output_file = 'processed_puts_data.csv'\n",
    "    model_file = 'option_pricing_mlp_model_put.h5'\n",
    "\n",
    "option_df = df[option_cols].copy()\n",
    "option_df.columns = col_rename\n",
    "\n",
    "# Normalize strike price and compute time to expiry in years\n",
    "option_df['strike_price'] = option_df['strike_price'] / 1000\n",
    "option_df['time_to_expiry'] = option_df['days_to_expiry'] / 365\n",
    "option_df.drop('days_to_expiry', axis=1, inplace=True)\n",
    "\n",
    "print(option_df.sample(10))"
   ]
  },
  {
   "cell_type": "markdown",
   "metadata": {},
   "source": [
    "# Hyperparameters"
   ]
  },
  {
   "cell_type": "code",
   "execution_count": 4,
   "metadata": {},
   "outputs": [],
   "source": [
    "# Hyperparameters\n",
    "n_units_per_layer = [256, 256, 256, 1]\n",
    "layers = 4\n",
    "n_batch = 1024\n",
    "n_epochs = 50"
   ]
  },
  {
   "cell_type": "markdown",
   "metadata": {},
   "source": [
    "# Building model"
   ]
  },
  {
   "cell_type": "code",
   "execution_count": 5,
   "metadata": {},
   "outputs": [
    {
     "name": "stderr",
     "output_type": "stream",
     "text": [
      "c:\\GitHub Repos\\CS-4641-Project\\.venv\\Lib\\site-packages\\keras\\src\\layers\\core\\dense.py:87: UserWarning: Do not pass an `input_shape`/`input_dim` argument to a layer. When using Sequential models, prefer using an `Input(shape)` object as the first layer in the model instead.\n",
      "  super().__init__(activity_regularizer=activity_regularizer, **kwargs)\n"
     ]
    },
    {
     "data": {
      "text/html": [
       "<pre style=\"white-space:pre;overflow-x:auto;line-height:normal;font-family:Menlo,'DejaVu Sans Mono',consolas,'Courier New',monospace\"><span style=\"font-weight: bold\">Model: \"sequential\"</span>\n",
       "</pre>\n"
      ],
      "text/plain": [
       "\u001b[1mModel: \"sequential\"\u001b[0m\n"
      ]
     },
     "metadata": {},
     "output_type": "display_data"
    },
    {
     "data": {
      "text/html": [
       "<pre style=\"white-space:pre;overflow-x:auto;line-height:normal;font-family:Menlo,'DejaVu Sans Mono',consolas,'Courier New',monospace\">┏━━━━━━━━━━━━━━━━━━━━━━━━━━━━━━━━━┳━━━━━━━━━━━━━━━━━━━━━━━━┳━━━━━━━━━━━━━━━┓\n",
       "┃<span style=\"font-weight: bold\"> Layer (type)                    </span>┃<span style=\"font-weight: bold\"> Output Shape           </span>┃<span style=\"font-weight: bold\">       Param # </span>┃\n",
       "┡━━━━━━━━━━━━━━━━━━━━━━━━━━━━━━━━━╇━━━━━━━━━━━━━━━━━━━━━━━━╇━━━━━━━━━━━━━━━┩\n",
       "│ dense (<span style=\"color: #0087ff; text-decoration-color: #0087ff\">Dense</span>)                   │ (<span style=\"color: #00d7ff; text-decoration-color: #00d7ff\">None</span>, <span style=\"color: #00af00; text-decoration-color: #00af00\">256</span>)            │         <span style=\"color: #00af00; text-decoration-color: #00af00\">2,560</span> │\n",
       "├─────────────────────────────────┼────────────────────────┼───────────────┤\n",
       "│ dense_1 (<span style=\"color: #0087ff; text-decoration-color: #0087ff\">Dense</span>)                 │ (<span style=\"color: #00d7ff; text-decoration-color: #00d7ff\">None</span>, <span style=\"color: #00af00; text-decoration-color: #00af00\">256</span>)            │        <span style=\"color: #00af00; text-decoration-color: #00af00\">65,792</span> │\n",
       "├─────────────────────────────────┼────────────────────────┼───────────────┤\n",
       "│ dense_2 (<span style=\"color: #0087ff; text-decoration-color: #0087ff\">Dense</span>)                 │ (<span style=\"color: #00d7ff; text-decoration-color: #00d7ff\">None</span>, <span style=\"color: #00af00; text-decoration-color: #00af00\">256</span>)            │        <span style=\"color: #00af00; text-decoration-color: #00af00\">65,792</span> │\n",
       "├─────────────────────────────────┼────────────────────────┼───────────────┤\n",
       "│ dense_3 (<span style=\"color: #0087ff; text-decoration-color: #0087ff\">Dense</span>)                 │ (<span style=\"color: #00d7ff; text-decoration-color: #00d7ff\">None</span>, <span style=\"color: #00af00; text-decoration-color: #00af00\">1</span>)              │           <span style=\"color: #00af00; text-decoration-color: #00af00\">257</span> │\n",
       "└─────────────────────────────────┴────────────────────────┴───────────────┘\n",
       "</pre>\n"
      ],
      "text/plain": [
       "┏━━━━━━━━━━━━━━━━━━━━━━━━━━━━━━━━━┳━━━━━━━━━━━━━━━━━━━━━━━━┳━━━━━━━━━━━━━━━┓\n",
       "┃\u001b[1m \u001b[0m\u001b[1mLayer (type)                   \u001b[0m\u001b[1m \u001b[0m┃\u001b[1m \u001b[0m\u001b[1mOutput Shape          \u001b[0m\u001b[1m \u001b[0m┃\u001b[1m \u001b[0m\u001b[1m      Param #\u001b[0m\u001b[1m \u001b[0m┃\n",
       "┡━━━━━━━━━━━━━━━━━━━━━━━━━━━━━━━━━╇━━━━━━━━━━━━━━━━━━━━━━━━╇━━━━━━━━━━━━━━━┩\n",
       "│ dense (\u001b[38;5;33mDense\u001b[0m)                   │ (\u001b[38;5;45mNone\u001b[0m, \u001b[38;5;34m256\u001b[0m)            │         \u001b[38;5;34m2,560\u001b[0m │\n",
       "├─────────────────────────────────┼────────────────────────┼───────────────┤\n",
       "│ dense_1 (\u001b[38;5;33mDense\u001b[0m)                 │ (\u001b[38;5;45mNone\u001b[0m, \u001b[38;5;34m256\u001b[0m)            │        \u001b[38;5;34m65,792\u001b[0m │\n",
       "├─────────────────────────────────┼────────────────────────┼───────────────┤\n",
       "│ dense_2 (\u001b[38;5;33mDense\u001b[0m)                 │ (\u001b[38;5;45mNone\u001b[0m, \u001b[38;5;34m256\u001b[0m)            │        \u001b[38;5;34m65,792\u001b[0m │\n",
       "├─────────────────────────────────┼────────────────────────┼───────────────┤\n",
       "│ dense_3 (\u001b[38;5;33mDense\u001b[0m)                 │ (\u001b[38;5;45mNone\u001b[0m, \u001b[38;5;34m1\u001b[0m)              │           \u001b[38;5;34m257\u001b[0m │\n",
       "└─────────────────────────────────┴────────────────────────┴───────────────┘\n"
      ]
     },
     "metadata": {},
     "output_type": "display_data"
    },
    {
     "data": {
      "text/html": [
       "<pre style=\"white-space:pre;overflow-x:auto;line-height:normal;font-family:Menlo,'DejaVu Sans Mono',consolas,'Courier New',monospace\"><span style=\"font-weight: bold\"> Total params: </span><span style=\"color: #00af00; text-decoration-color: #00af00\">134,401</span> (525.00 KB)\n",
       "</pre>\n"
      ],
      "text/plain": [
       "\u001b[1m Total params: \u001b[0m\u001b[38;5;34m134,401\u001b[0m (525.00 KB)\n"
      ]
     },
     "metadata": {},
     "output_type": "display_data"
    },
    {
     "data": {
      "text/html": [
       "<pre style=\"white-space:pre;overflow-x:auto;line-height:normal;font-family:Menlo,'DejaVu Sans Mono',consolas,'Courier New',monospace\"><span style=\"font-weight: bold\"> Trainable params: </span><span style=\"color: #00af00; text-decoration-color: #00af00\">134,401</span> (525.00 KB)\n",
       "</pre>\n"
      ],
      "text/plain": [
       "\u001b[1m Trainable params: \u001b[0m\u001b[38;5;34m134,401\u001b[0m (525.00 KB)\n"
      ]
     },
     "metadata": {},
     "output_type": "display_data"
    },
    {
     "data": {
      "text/html": [
       "<pre style=\"white-space:pre;overflow-x:auto;line-height:normal;font-family:Menlo,'DejaVu Sans Mono',consolas,'Courier New',monospace\"><span style=\"font-weight: bold\"> Non-trainable params: </span><span style=\"color: #00af00; text-decoration-color: #00af00\">0</span> (0.00 B)\n",
       "</pre>\n"
      ],
      "text/plain": [
       "\u001b[1m Non-trainable params: \u001b[0m\u001b[38;5;34m0\u001b[0m (0.00 B)\n"
      ]
     },
     "metadata": {},
     "output_type": "display_data"
    }
   ],
   "source": [
    "# Prepare data for modeling\n",
    "X = option_df[['underlying_price', 'strike_price', 'hist_volatility', 'delta', 'gamma', 'vega', 'theta', 'rho', 'time_to_expiry']]\n",
    "y = option_df['equilibrium_price']\n",
    "\n",
    "\n",
    "# Train-test split\n",
    "X_train, X_test, y_train, y_test = train_test_split(X, y, test_size=0.2, random_state=42)\n",
    "\n",
    "# Create model \n",
    "model = Sequential()\n",
    "\n",
    "\n",
    "# Scale data\n",
    "scaler = StandardScaler()\n",
    "X_train_scaled = scaler.fit_transform(X_train)\n",
    "X_test_scaled = scaler.transform(X_test)\n",
    "\n",
    "# Add first layer\n",
    "model.add(Dense(n_units_per_layer[0], activation='relu', input_shape=(X_train_scaled.shape[1],)))\n",
    "\n",
    "for i in range(1, layers):\n",
    "# Define Keras MLP model\n",
    "    model.add(Dense(n_units_per_layer[i], activation='relu'))\n",
    "\n",
    "# Learning rate scheduling\n",
    "def scheduler(epoch, lr):\n",
    "    if epoch % 10 == 0 and epoch != 0:\n",
    "        return lr * 0.1  # reduce LR by 10x every 10 epochs\n",
    "    return lr\n",
    "\n",
    "lr_callback = LearningRateScheduler(scheduler)\n",
    "\n",
    "model.compile(optimizer='adam', loss='mean_squared_error', metrics=['mae'])\n",
    "\n",
    "model.summary()"
   ]
  },
  {
   "cell_type": "markdown",
   "metadata": {},
   "source": [
    "# Train model"
   ]
  },
  {
   "cell_type": "code",
   "execution_count": 6,
   "metadata": {},
   "outputs": [
    {
     "name": "stdout",
     "output_type": "stream",
     "text": [
      "Epoch 1/50\n",
      "\u001b[1m969/969\u001b[0m \u001b[32m━━━━━━━━━━━━━━━━━━━━\u001b[0m\u001b[37m\u001b[0m \u001b[1m6s\u001b[0m 5ms/step - loss: 474.6169 - mae: 7.8068 - val_loss: 1.3070 - val_mae: 0.5549 - learning_rate: 0.0010\n",
      "Epoch 2/50\n",
      "\u001b[1m969/969\u001b[0m \u001b[32m━━━━━━━━━━━━━━━━━━━━\u001b[0m\u001b[37m\u001b[0m \u001b[1m4s\u001b[0m 5ms/step - loss: 1.1784 - mae: 0.4956 - val_loss: 0.8047 - val_mae: 0.3604 - learning_rate: 0.0010\n",
      "Epoch 3/50\n",
      "\u001b[1m969/969\u001b[0m \u001b[32m━━━━━━━━━━━━━━━━━━━━\u001b[0m\u001b[37m\u001b[0m \u001b[1m4s\u001b[0m 4ms/step - loss: 1.0762 - mae: 0.3769 - val_loss: 0.7414 - val_mae: 0.3519 - learning_rate: 0.0010\n",
      "Epoch 4/50\n",
      "\u001b[1m969/969\u001b[0m \u001b[32m━━━━━━━━━━━━━━━━━━━━\u001b[0m\u001b[37m\u001b[0m \u001b[1m4s\u001b[0m 4ms/step - loss: 0.7307 - mae: 0.3108 - val_loss: 0.6507 - val_mae: 0.2693 - learning_rate: 0.0010\n",
      "Epoch 5/50\n",
      "\u001b[1m969/969\u001b[0m \u001b[32m━━━━━━━━━━━━━━━━━━━━\u001b[0m\u001b[37m\u001b[0m \u001b[1m4s\u001b[0m 4ms/step - loss: 0.9405 - mae: 0.3188 - val_loss: 0.6273 - val_mae: 0.2854 - learning_rate: 0.0010\n",
      "Epoch 6/50\n",
      "\u001b[1m969/969\u001b[0m \u001b[32m━━━━━━━━━━━━━━━━━━━━\u001b[0m\u001b[37m\u001b[0m \u001b[1m4s\u001b[0m 4ms/step - loss: 0.7795 - mae: 0.2942 - val_loss: 0.5563 - val_mae: 0.2188 - learning_rate: 0.0010\n",
      "Epoch 7/50\n",
      "\u001b[1m969/969\u001b[0m \u001b[32m━━━━━━━━━━━━━━━━━━━━\u001b[0m\u001b[37m\u001b[0m \u001b[1m5s\u001b[0m 5ms/step - loss: 0.6025 - mae: 0.2490 - val_loss: 0.7517 - val_mae: 0.3507 - learning_rate: 0.0010\n",
      "Epoch 8/50\n",
      "\u001b[1m969/969\u001b[0m \u001b[32m━━━━━━━━━━━━━━━━━━━━\u001b[0m\u001b[37m\u001b[0m \u001b[1m4s\u001b[0m 4ms/step - loss: 1.0289 - mae: 0.3385 - val_loss: 0.6583 - val_mae: 0.2614 - learning_rate: 0.0010\n",
      "Epoch 9/50\n",
      "\u001b[1m969/969\u001b[0m \u001b[32m━━━━━━━━━━━━━━━━━━━━\u001b[0m\u001b[37m\u001b[0m \u001b[1m4s\u001b[0m 4ms/step - loss: 0.7599 - mae: 0.2544 - val_loss: 0.5954 - val_mae: 0.2736 - learning_rate: 0.0010\n",
      "Epoch 10/50\n",
      "\u001b[1m969/969\u001b[0m \u001b[32m━━━━━━━━━━━━━━━━━━━━\u001b[0m\u001b[37m\u001b[0m \u001b[1m4s\u001b[0m 5ms/step - loss: 0.6877 - mae: 0.2381 - val_loss: 0.6876 - val_mae: 0.3125 - learning_rate: 0.0010\n",
      "Epoch 11/50\n",
      "\u001b[1m969/969\u001b[0m \u001b[32m━━━━━━━━━━━━━━━━━━━━\u001b[0m\u001b[37m\u001b[0m \u001b[1m4s\u001b[0m 4ms/step - loss: 0.7073 - mae: 0.1706 - val_loss: 0.4894 - val_mae: 0.1592 - learning_rate: 1.0000e-04\n",
      "Epoch 12/50\n",
      "\u001b[1m969/969\u001b[0m \u001b[32m━━━━━━━━━━━━━━━━━━━━\u001b[0m\u001b[37m\u001b[0m \u001b[1m4s\u001b[0m 4ms/step - loss: 0.5637 - mae: 0.1605 - val_loss: 0.4879 - val_mae: 0.1572 - learning_rate: 1.0000e-04\n",
      "Epoch 13/50\n",
      "\u001b[1m969/969\u001b[0m \u001b[32m━━━━━━━━━━━━━━━━━━━━\u001b[0m\u001b[37m\u001b[0m \u001b[1m4s\u001b[0m 4ms/step - loss: 0.5672 - mae: 0.1604 - val_loss: 0.4912 - val_mae: 0.1641 - learning_rate: 1.0000e-04\n",
      "Epoch 14/50\n",
      "\u001b[1m969/969\u001b[0m \u001b[32m━━━━━━━━━━━━━━━━━━━━\u001b[0m\u001b[37m\u001b[0m \u001b[1m4s\u001b[0m 4ms/step - loss: 0.6304 - mae: 0.1597 - val_loss: 0.4870 - val_mae: 0.1568 - learning_rate: 1.0000e-04\n",
      "Epoch 15/50\n",
      "\u001b[1m969/969\u001b[0m \u001b[32m━━━━━━━━━━━━━━━━━━━━\u001b[0m\u001b[37m\u001b[0m \u001b[1m4s\u001b[0m 4ms/step - loss: 0.5519 - mae: 0.1568 - val_loss: 0.4828 - val_mae: 0.1519 - learning_rate: 1.0000e-04\n",
      "Epoch 16/50\n",
      "\u001b[1m969/969\u001b[0m \u001b[32m━━━━━━━━━━━━━━━━━━━━\u001b[0m\u001b[37m\u001b[0m \u001b[1m4s\u001b[0m 5ms/step - loss: 0.5376 - mae: 0.1546 - val_loss: 0.4852 - val_mae: 0.1578 - learning_rate: 1.0000e-04\n",
      "Epoch 17/50\n",
      "\u001b[1m969/969\u001b[0m \u001b[32m━━━━━━━━━━━━━━━━━━━━\u001b[0m\u001b[37m\u001b[0m \u001b[1m4s\u001b[0m 4ms/step - loss: 0.5790 - mae: 0.1534 - val_loss: 0.4826 - val_mae: 0.1520 - learning_rate: 1.0000e-04\n",
      "Epoch 18/50\n",
      "\u001b[1m969/969\u001b[0m \u001b[32m━━━━━━━━━━━━━━━━━━━━\u001b[0m\u001b[37m\u001b[0m \u001b[1m4s\u001b[0m 4ms/step - loss: 0.5063 - mae: 0.1492 - val_loss: 0.4802 - val_mae: 0.1501 - learning_rate: 1.0000e-04\n",
      "Epoch 19/50\n",
      "\u001b[1m969/969\u001b[0m \u001b[32m━━━━━━━━━━━━━━━━━━━━\u001b[0m\u001b[37m\u001b[0m \u001b[1m4s\u001b[0m 4ms/step - loss: 0.5106 - mae: 0.1481 - val_loss: 0.0968 - val_mae: 0.1505 - learning_rate: 1.0000e-04\n",
      "Epoch 20/50\n",
      "\u001b[1m969/969\u001b[0m \u001b[32m━━━━━━━━━━━━━━━━━━━━\u001b[0m\u001b[37m\u001b[0m \u001b[1m4s\u001b[0m 4ms/step - loss: 0.0967 - mae: 0.1444 - val_loss: 0.0589 - val_mae: 0.1504 - learning_rate: 1.0000e-04\n",
      "Epoch 21/50\n",
      "\u001b[1m969/969\u001b[0m \u001b[32m━━━━━━━━━━━━━━━━━━━━\u001b[0m\u001b[37m\u001b[0m \u001b[1m4s\u001b[0m 4ms/step - loss: 0.0541 - mae: 0.1330 - val_loss: 0.0494 - val_mae: 0.1326 - learning_rate: 1.0000e-05\n",
      "Epoch 22/50\n",
      "\u001b[1m969/969\u001b[0m \u001b[32m━━━━━━━━━━━━━━━━━━━━\u001b[0m\u001b[37m\u001b[0m \u001b[1m4s\u001b[0m 4ms/step - loss: 0.0507 - mae: 0.1322 - val_loss: 0.0494 - val_mae: 0.1320 - learning_rate: 1.0000e-05\n",
      "Epoch 23/50\n",
      "\u001b[1m969/969\u001b[0m \u001b[32m━━━━━━━━━━━━━━━━━━━━\u001b[0m\u001b[37m\u001b[0m \u001b[1m4s\u001b[0m 4ms/step - loss: 0.0498 - mae: 0.1317 - val_loss: 0.0494 - val_mae: 0.1318 - learning_rate: 1.0000e-05\n",
      "Epoch 24/50\n",
      "\u001b[1m969/969\u001b[0m \u001b[32m━━━━━━━━━━━━━━━━━━━━\u001b[0m\u001b[37m\u001b[0m \u001b[1m4s\u001b[0m 4ms/step - loss: 0.0508 - mae: 0.1318 - val_loss: 0.0487 - val_mae: 0.1313 - learning_rate: 1.0000e-05\n",
      "Epoch 25/50\n",
      "\u001b[1m969/969\u001b[0m \u001b[32m━━━━━━━━━━━━━━━━━━━━\u001b[0m\u001b[37m\u001b[0m \u001b[1m4s\u001b[0m 4ms/step - loss: 0.0487 - mae: 0.1311 - val_loss: 0.0489 - val_mae: 0.1317 - learning_rate: 1.0000e-05\n",
      "Epoch 26/50\n",
      "\u001b[1m969/969\u001b[0m \u001b[32m━━━━━━━━━━━━━━━━━━━━\u001b[0m\u001b[37m\u001b[0m \u001b[1m4s\u001b[0m 4ms/step - loss: 0.0498 - mae: 0.1312 - val_loss: 0.0483 - val_mae: 0.1315 - learning_rate: 1.0000e-05\n",
      "Epoch 27/50\n",
      "\u001b[1m969/969\u001b[0m \u001b[32m━━━━━━━━━━━━━━━━━━━━\u001b[0m\u001b[37m\u001b[0m \u001b[1m4s\u001b[0m 4ms/step - loss: 0.0482 - mae: 0.1308 - val_loss: 0.0485 - val_mae: 0.1316 - learning_rate: 1.0000e-05\n",
      "Epoch 28/50\n",
      "\u001b[1m969/969\u001b[0m \u001b[32m━━━━━━━━━━━━━━━━━━━━\u001b[0m\u001b[37m\u001b[0m \u001b[1m5s\u001b[0m 5ms/step - loss: 0.0486 - mae: 0.1306 - val_loss: 0.0483 - val_mae: 0.1317 - learning_rate: 1.0000e-05\n",
      "Epoch 29/50\n",
      "\u001b[1m969/969\u001b[0m \u001b[32m━━━━━━━━━━━━━━━━━━━━\u001b[0m\u001b[37m\u001b[0m \u001b[1m4s\u001b[0m 4ms/step - loss: 0.0477 - mae: 0.1302 - val_loss: 0.0478 - val_mae: 0.1300 - learning_rate: 1.0000e-05\n",
      "Epoch 30/50\n",
      "\u001b[1m969/969\u001b[0m \u001b[32m━━━━━━━━━━━━━━━━━━━━\u001b[0m\u001b[37m\u001b[0m \u001b[1m4s\u001b[0m 4ms/step - loss: 0.0477 - mae: 0.1298 - val_loss: 0.0482 - val_mae: 0.1307 - learning_rate: 1.0000e-05\n",
      "Epoch 31/50\n",
      "\u001b[1m969/969\u001b[0m \u001b[32m━━━━━━━━━━━━━━━━━━━━\u001b[0m\u001b[37m\u001b[0m \u001b[1m5s\u001b[0m 5ms/step - loss: 0.0468 - mae: 0.1287 - val_loss: 0.0470 - val_mae: 0.1293 - learning_rate: 1.0000e-06\n",
      "Epoch 32/50\n",
      "\u001b[1m969/969\u001b[0m \u001b[32m━━━━━━━━━━━━━━━━━━━━\u001b[0m\u001b[37m\u001b[0m \u001b[1m4s\u001b[0m 4ms/step - loss: 0.0470 - mae: 0.1288 - val_loss: 0.0470 - val_mae: 0.1292 - learning_rate: 1.0000e-06\n",
      "Epoch 33/50\n",
      "\u001b[1m969/969\u001b[0m \u001b[32m━━━━━━━━━━━━━━━━━━━━\u001b[0m\u001b[37m\u001b[0m \u001b[1m4s\u001b[0m 4ms/step - loss: 0.0463 - mae: 0.1285 - val_loss: 0.0470 - val_mae: 0.1293 - learning_rate: 1.0000e-06\n",
      "Epoch 34/50\n",
      "\u001b[1m969/969\u001b[0m \u001b[32m━━━━━━━━━━━━━━━━━━━━\u001b[0m\u001b[37m\u001b[0m \u001b[1m4s\u001b[0m 4ms/step - loss: 0.0463 - mae: 0.1284 - val_loss: 0.0470 - val_mae: 0.1295 - learning_rate: 1.0000e-06\n",
      "Epoch 35/50\n",
      "\u001b[1m969/969\u001b[0m \u001b[32m━━━━━━━━━━━━━━━━━━━━\u001b[0m\u001b[37m\u001b[0m \u001b[1m4s\u001b[0m 5ms/step - loss: 0.0472 - mae: 0.1287 - val_loss: 0.0470 - val_mae: 0.1293 - learning_rate: 1.0000e-06\n",
      "Epoch 36/50\n",
      "\u001b[1m969/969\u001b[0m \u001b[32m━━━━━━━━━━━━━━━━━━━━\u001b[0m\u001b[37m\u001b[0m \u001b[1m4s\u001b[0m 5ms/step - loss: 0.0467 - mae: 0.1288 - val_loss: 0.0469 - val_mae: 0.1290 - learning_rate: 1.0000e-06\n",
      "Epoch 37/50\n",
      "\u001b[1m969/969\u001b[0m \u001b[32m━━━━━━━━━━━━━━━━━━━━\u001b[0m\u001b[37m\u001b[0m \u001b[1m5s\u001b[0m 5ms/step - loss: 0.0471 - mae: 0.1287 - val_loss: 0.0469 - val_mae: 0.1292 - learning_rate: 1.0000e-06\n",
      "Epoch 38/50\n",
      "\u001b[1m969/969\u001b[0m \u001b[32m━━━━━━━━━━━━━━━━━━━━\u001b[0m\u001b[37m\u001b[0m \u001b[1m5s\u001b[0m 5ms/step - loss: 0.0465 - mae: 0.1283 - val_loss: 0.0469 - val_mae: 0.1290 - learning_rate: 1.0000e-06\n",
      "Epoch 39/50\n",
      "\u001b[1m969/969\u001b[0m \u001b[32m━━━━━━━━━━━━━━━━━━━━\u001b[0m\u001b[37m\u001b[0m \u001b[1m5s\u001b[0m 5ms/step - loss: 0.0465 - mae: 0.1286 - val_loss: 0.0468 - val_mae: 0.1289 - learning_rate: 1.0000e-06\n",
      "Epoch 40/50\n",
      "\u001b[1m969/969\u001b[0m \u001b[32m━━━━━━━━━━━━━━━━━━━━\u001b[0m\u001b[37m\u001b[0m \u001b[1m5s\u001b[0m 5ms/step - loss: 0.0464 - mae: 0.1282 - val_loss: 0.0468 - val_mae: 0.1291 - learning_rate: 1.0000e-06\n",
      "Epoch 41/50\n",
      "\u001b[1m969/969\u001b[0m \u001b[32m━━━━━━━━━━━━━━━━━━━━\u001b[0m\u001b[37m\u001b[0m \u001b[1m5s\u001b[0m 5ms/step - loss: 0.0463 - mae: 0.1280 - val_loss: 0.0468 - val_mae: 0.1289 - learning_rate: 1.0000e-07\n",
      "Epoch 42/50\n",
      "\u001b[1m969/969\u001b[0m \u001b[32m━━━━━━━━━━━━━━━━━━━━\u001b[0m\u001b[37m\u001b[0m \u001b[1m5s\u001b[0m 5ms/step - loss: 0.0469 - mae: 0.1282 - val_loss: 0.0468 - val_mae: 0.1289 - learning_rate: 1.0000e-07\n",
      "Epoch 43/50\n",
      "\u001b[1m969/969\u001b[0m \u001b[32m━━━━━━━━━━━━━━━━━━━━\u001b[0m\u001b[37m\u001b[0m \u001b[1m5s\u001b[0m 5ms/step - loss: 0.0463 - mae: 0.1283 - val_loss: 0.0468 - val_mae: 0.1289 - learning_rate: 1.0000e-07\n",
      "Epoch 44/50\n",
      "\u001b[1m969/969\u001b[0m \u001b[32m━━━━━━━━━━━━━━━━━━━━\u001b[0m\u001b[37m\u001b[0m \u001b[1m5s\u001b[0m 5ms/step - loss: 0.0467 - mae: 0.1285 - val_loss: 0.0468 - val_mae: 0.1288 - learning_rate: 1.0000e-07\n",
      "Epoch 45/50\n",
      "\u001b[1m969/969\u001b[0m \u001b[32m━━━━━━━━━━━━━━━━━━━━\u001b[0m\u001b[37m\u001b[0m \u001b[1m5s\u001b[0m 5ms/step - loss: 0.0477 - mae: 0.1284 - val_loss: 0.0468 - val_mae: 0.1289 - learning_rate: 1.0000e-07\n",
      "Epoch 46/50\n",
      "\u001b[1m969/969\u001b[0m \u001b[32m━━━━━━━━━━━━━━━━━━━━\u001b[0m\u001b[37m\u001b[0m \u001b[1m5s\u001b[0m 5ms/step - loss: 0.0461 - mae: 0.1280 - val_loss: 0.0468 - val_mae: 0.1289 - learning_rate: 1.0000e-07\n",
      "Epoch 47/50\n",
      "\u001b[1m969/969\u001b[0m \u001b[32m━━━━━━━━━━━━━━━━━━━━\u001b[0m\u001b[37m\u001b[0m \u001b[1m5s\u001b[0m 5ms/step - loss: 0.0466 - mae: 0.1282 - val_loss: 0.0467 - val_mae: 0.1288 - learning_rate: 1.0000e-07\n",
      "Epoch 48/50\n",
      "\u001b[1m969/969\u001b[0m \u001b[32m━━━━━━━━━━━━━━━━━━━━\u001b[0m\u001b[37m\u001b[0m \u001b[1m5s\u001b[0m 5ms/step - loss: 0.0464 - mae: 0.1283 - val_loss: 0.0468 - val_mae: 0.1289 - learning_rate: 1.0000e-07\n",
      "Epoch 49/50\n",
      "\u001b[1m969/969\u001b[0m \u001b[32m━━━━━━━━━━━━━━━━━━━━\u001b[0m\u001b[37m\u001b[0m \u001b[1m5s\u001b[0m 5ms/step - loss: 0.0465 - mae: 0.1283 - val_loss: 0.0467 - val_mae: 0.1288 - learning_rate: 1.0000e-07\n",
      "Epoch 50/50\n",
      "\u001b[1m969/969\u001b[0m \u001b[32m━━━━━━━━━━━━━━━━━━━━\u001b[0m\u001b[37m\u001b[0m \u001b[1m5s\u001b[0m 5ms/step - loss: 0.0466 - mae: 0.1285 - val_loss: 0.0467 - val_mae: 0.1288 - learning_rate: 1.0000e-07\n",
      "\u001b[1m9685/9685\u001b[0m \u001b[32m━━━━━━━━━━━━━━━━━━━━\u001b[0m\u001b[37m\u001b[0m \u001b[1m13s\u001b[0m 1ms/step - loss: 0.0473 - mae: 0.1290\n",
      "Test MAE: 0.1291211098432541\n"
     ]
    }
   ],
   "source": [
    "# Train the model\n",
    "history = model.fit(X_train_scaled, y_train, epochs=n_epochs, batch_size=n_batch, validation_split=0.2, verbose=1, callbacks=[lr_callback])\n",
    "\n",
    "# Evaluate the model\n",
    "loss, mae = model.evaluate(X_test_scaled, y_test)\n",
    "print(f\"Test MAE: {mae}\")"
   ]
  },
  {
   "cell_type": "markdown",
   "metadata": {},
   "source": [
    "# Plot the loss"
   ]
  },
  {
   "cell_type": "code",
   "execution_count": 7,
   "metadata": {},
   "outputs": [
    {
     "data": {
      "image/png": "[encoded data removed]",
      "text/plain": [
       "<Figure size 800x500 with 1 Axes>"
      ]
     },
     "metadata": {},
     "output_type": "display_data"
    },
    {
     "name": "stderr",
     "output_type": "stream",
     "text": [
      "WARNING:absl:You are saving your model as an HDF5 file via `model.save()` or `keras.saving.save_model(model)`. This file format is considered legacy. We recommend using instead the native Keras format, e.g. `model.save('my_model.keras')` or `keras.saving.save_model(model, 'my_model.keras')`. \n"
     ]
    }
   ],
   "source": [
    "# Plot training and validation loss\n",
    "plt.figure(figsize=(8,5))\n",
    "\n",
    "eps = 1e-10  # tiny number to avoid log(0)\n",
    "plt.plot(np.log(np.array(history.history['loss']) + eps), label='Log Training Loss')\n",
    "plt.plot(np.log(np.array(history.history['val_loss']) + eps), label='Log Validation Loss')\n",
    "\n",
    "plt.xlabel('Epoch')\n",
    "plt.ylabel('Log Loss (Log MSE)')\n",
    "plt.title(f'Training and Validation Log Loss Over Epochs ({option_type} options)')\n",
    "plt.legend()\n",
    "plt.grid(True)\n",
    "plt.show()\n",
    "\n",
    "# Save the model\n",
    "model.save('option_pricing_mlp_model_call.h5')\n"
   ]
  },
  {
   "cell_type": "markdown",
   "metadata": {},
   "source": [
    "# Test random entries"
   ]
  },
  {
   "cell_type": "code",
   "execution_count": null,
   "metadata": {},
   "outputs": [
    {
     "name": "stderr",
     "output_type": "stream",
     "text": [
      "WARNING:absl:Compiled the loaded model, but the compiled metrics have yet to be built. `model.compile_metrics` will be empty until you train or evaluate the model.\n"
     ]
    },
    {
     "name": "stdout",
     "output_type": "stream",
     "text": [
      "WARNING:tensorflow:6 out of the last 6 calls to <function TensorFlowTrainer.make_predict_function.<locals>.one_step_on_data_distributed at 0x0000023FA7F513A0> triggered tf.function retracing. Tracing is expensive and the excessive number of tracings could be due to (1) creating @tf.function repeatedly in a loop, (2) passing tensors with different shapes, (3) passing Python objects instead of tensors. For (1), please define your @tf.function outside of the loop. For (2), @tf.function has reduce_retracing=True option that can avoid unnecessary retracing. For (3), please refer to https://www.tensorflow.org/guide/function#controlling_retracing and https://www.tensorflow.org/api_docs/python/tf/function for  more details.\n"
     ]
    },
    {
     "name": "stderr",
     "output_type": "stream",
     "text": [
      "WARNING:tensorflow:6 out of the last 6 calls to <function TensorFlowTrainer.make_predict_function.<locals>.one_step_on_data_distributed at 0x0000023FA7F513A0> triggered tf.function retracing. Tracing is expensive and the excessive number of tracings could be due to (1) creating @tf.function repeatedly in a loop, (2) passing tensors with different shapes, (3) passing Python objects instead of tensors. For (1), please define your @tf.function outside of the loop. For (2), @tf.function has reduce_retracing=True option that can avoid unnecessary retracing. For (3), please refer to https://www.tensorflow.org/guide/function#controlling_retracing and https://www.tensorflow.org/api_docs/python/tf/function for  more details.\n"
     ]
    },
    {
     "name": "stdout",
     "output_type": "stream",
     "text": [
      "\u001b[1m1/1\u001b[0m \u001b[32m━━━━━━━━━━━━━━━━━━━━\u001b[0m\u001b[37m\u001b[0m \u001b[1m0s\u001b[0m 57ms/step\n",
      "Entry 516894 - Predicted price: 24.02, Actual price: 24.30\n",
      "Entry 467680 - Predicted price: 42.07, Actual price: 42.11\n",
      "Entry 649380 - Predicted price: 0.00, Actual price: 0.01\n",
      "Entry 1006201 - Predicted price: 5.20, Actual price: 5.30\n",
      "Entry 1127781 - Predicted price: 74.20, Actual price: 74.15\n",
      "Entry 110164 - Predicted price: 0.84, Actual price: 0.88\n",
      "Entry 808601 - Predicted price: 66.51, Actual price: 66.15\n",
      "Entry 406603 - Predicted price: 0.54, Actual price: 0.62\n",
      "Entry 456414 - Predicted price: 68.70, Actual price: 68.55\n",
      "Entry 1090980 - Predicted price: 24.58, Actual price: 24.23\n"
     ]
    }
   ],
   "source": [
    "# Test 10 random entries\n",
    "loaded_model = load_model('option_pricing_mlp_model_call.h5')\n",
    "sample_entries = X.sample(10)\n",
    "sample_scaled = scaler.transform(sample_entries)\n",
    "predictions = loaded_model.predict(sample_scaled)\n",
    "\n",
    "for i, idx in enumerate(sample_entries.index):\n",
    "    print(f\"Entry {idx} - Predicted price: {predictions[i][0]:.2f}, Actual price: {y.loc[idx]:.2f}\")"
   ]
  }
 ],
 "metadata": {
  "kernelspec": {
   "display_name": ".venv",
   "language": "python",
   "name": "python3"
  },
  "language_info": {
   "codemirror_mode": {
    "name": "ipython",
    "version": 3
   },
   "file_extension": ".py",
   "mimetype": "text/x-python",
   "name": "python",
   "nbconvert_exporter": "python",
   "pygments_lexer": "ipython3",
   "version": "3.12.9"
  }
 },
 "nbformat": 4,
 "nbformat_minor": 2
}
