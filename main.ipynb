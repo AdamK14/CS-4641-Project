{
 "cells": [
  {
   "cell_type": "markdown",
   "metadata": {},
   "source": [
    "# CS 4641 Project\n",
    "Our goal is to recreate the findings from the Stanford University research paper: **insert paper**\n",
    "\n",
    "## Data Pre-Processing"
   ]
  },
  {
   "cell_type": "code",
   "execution_count": null,
   "metadata": {},
   "outputs": [],
   "source": [
    "import pandas as pd\n",
    "\n",
    "# Read the data into a DataFrame\n",
    "half_1 = pd.read_csv(\"raw data/aapl_2016_2020.csv\", low_memory=False)\n",
    "half_2 = pd.read_csv(\"raw data/aapl_2021_2023.csv\", low_memory=False)\n",
    "df = pd.concat([half_1, half_2], ignore_index=True)\n",
    "df.columns = df.columns.str.strip()\n",
    "print(df.columns)\n",
    "\n",
    "# Convert Unix timestamps to datetime\n",
    "df['[QUOTE_DATETIME]'] = pd.to_datetime(df['[QUOTE_UNIXTIME]'], unit='s')\n",
    "df['[EXPIRE_DATETIME]'] = pd.to_datetime(df['[EXPIRE_UNIX]'], unit='s')\n",
    "\n",
    "# Convert columns that should be numeric\n",
    "numeric_cols = ['[QUOTE_TIME_HOURS]', '[UNDERLYING_LAST]', '[DTE]', '[C_DELTA]', '[C_GAMMA]', '[C_VEGA]',\n",
    "                '[C_THETA]', '[C_RHO]', '[C_IV]', '[C_VOLUME]', '[C_LAST]', '[C_BID]', '[C_ASK]', '[STRIKE]',\n",
    "                '[P_BID]', '[P_ASK]', '[P_LAST]', '[P_DELTA]', '[P_GAMMA]', '[P_VEGA]', '[P_THETA]', '[P_RHO]',\n",
    "                '[P_IV]', '[P_VOLUME]', '[STRIKE_DISTANCE]', '[STRIKE_DISTANCE_PCT]']\n",
    "df[numeric_cols] = df[numeric_cols].apply(lambda col: pd.to_numeric(col, errors='coerce'))\n",
    "\n",
    "# Parse call and put size columns into bid and ask sizes\n",
    "def parse_size(size_str):\n",
    "    try:\n",
    "        bid_size, ask_size = size_str.split('x')\n",
    "        return int(bid_size.strip()), int(ask_size.strip())\n",
    "    except:\n",
    "        return None, None\n",
    "\n",
    "df[['[C_BID_SIZE]', '[C_ASK_SIZE]']] = df['[C_SIZE]'].apply(lambda x: pd.Series(parse_size(x)))\n",
    "df[['[P_BID_SIZE]', '[P_ASK_SIZE]']] = df['[P_SIZE]'].apply(lambda x: pd.Series(parse_size(x)))\n",
    "df['[CALL_EQUI_PRICE]'] = (df['[C_BID]'] + df['[C_ASK]']) / 2\n",
    "df['[PUT_EQUI_PRICE]'] = (df['[P_BID]'] + df['[P_ASK]']) / 2\n",
    "\n",
    "cols_to_keep = ['[UNDERLYING_LAST]', '[DTE]', '[STRIKE]', \n",
    "                '[C_BID]', '[C_ASK]', '[CALL_EQUI_PRICE]', '[C_IV]', \n",
    "                '[P_BID]', '[P_ASK]', '[PUT_EQUI_PRICE]', '[P_IV]']\n",
    "df_reduced = df[cols_to_keep].copy()\n",
    "df_reduced.to_csv(\"processed_data.csv\", index=False)"
   ]
  },
  {
   "cell_type": "markdown",
   "metadata": {},
   "source": [
    "## Beginning Training"
   ]
  }
 ],
 "metadata": {
  "kernelspec": {
   "display_name": "base",
   "language": "python",
   "name": "python3"
  },
  "language_info": {
   "name": "python",
   "version": "3.12.1"
  }
 },
 "nbformat": 4,
 "nbformat_minor": 2
}
