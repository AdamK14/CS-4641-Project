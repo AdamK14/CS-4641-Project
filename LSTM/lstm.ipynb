{
 "cells": [
  {
   "cell_type": "markdown",
   "metadata": {},
   "source": [
    "## Imports\n"
   ]
  },
  {
   "cell_type": "code",
   "execution_count": 2,
   "metadata": {},
   "outputs": [],
   "source": [
    "import pandas as pd\n",
    "import numpy as np\n",
    "from keras.models import Model, Sequential, load_model\n",
    "from keras.layers import Input, LSTM, Dense, Concatenate, BatchNormalization, LeakyReLU\n",
    "from keras.optimizers import Adam\n",
    "from keras.callbacks import TensorBoard\n",
    "from sklearn.preprocessing import StandardScaler\n",
    "from sklearn.model_selection import train_test_split\n",
    "import matplotlib.pyplot as plt"
   ]
  },
  {
   "cell_type": "markdown",
   "metadata": {},
   "source": [
    "## Data Pre-Processing"
   ]
  },
  {
   "cell_type": "code",
   "execution_count": 19,
   "metadata": {},
   "outputs": [
    {
     "name": "stdout",
     "output_type": "stream",
     "text": [
      "['strike_price', 'best_bid', 'best_ask', 'date', 'underlying_price', 'hist_volatility', 'equilibrium_price', 'time_to_expiry']\n"
     ]
    }
   ],
   "source": [
    "# Load and combine data\n",
    "PATH_TO_FILE_1 = \"../raw data/aapl_2016_2020.csv\"\n",
    "PATH_TO_FILE_2 = \"../raw data/aapl_2021_2023.csv\"\n",
    "half_1 = pd.read_csv(PATH_TO_FILE_1, low_memory=False)\n",
    "half_2 = pd.read_csv(PATH_TO_FILE_2, low_memory=False)\n",
    "df = pd.concat([half_1, half_2], ignore_index=True)\n",
    "df.columns = df.columns.str.strip()\n",
    "\n",
    "def cleaned_options(option_type, df):\n",
    "    # Convert Unix timestamps to datetime\n",
    "    df['[QUOTE_DATETIME]'] = pd.to_datetime(df['[QUOTE_UNIXTIME]'], unit='s')\n",
    "    df['EXPIRE_DATETIME'] = pd.to_datetime(df['[EXPIRE_UNIX]'], unit='s')\n",
    "\n",
    "    # Load underlying price data for volatility computation\n",
    "    underlying_prices = df[['[QUOTE_DATETIME]', '[UNDERLYING_LAST]']].drop_duplicates().set_index('[QUOTE_DATETIME]').sort_index()\n",
    "\n",
    "    # Function to compute historical volatility\n",
    "    def historical_volatility(series, window=20):\n",
    "        return np.sqrt(252) * series.pct_change().rolling(window=window).std()\n",
    "\n",
    "    # Compute 20-day historical volatility\n",
    "    underlying_prices['hist_vol_20d'] = historical_volatility(underlying_prices['[UNDERLYING_LAST]'])\n",
    "    underlying_prices.dropna(inplace=True)\n",
    "\n",
    "    # Merge historical volatility back into main dataframe\n",
    "    df = df.merge(underlying_prices[['hist_vol_20d']], left_on='[QUOTE_DATETIME]', right_index=True, how='inner')\n",
    "\n",
    "    # Columns to numeric conversion: choose columns based on option type\n",
    "    if option_type == 'call':\n",
    "        numeric_cols = ['[QUOTE_DATETIME]', '[UNDERLYING_LAST]', '[DTE]', '[STRIKE]', '[C_DELTA]', '[C_GAMMA]', '[C_VEGA]',\n",
    "                        '[C_THETA]', '[C_RHO]', '[C_BID]', '[C_ASK]']\n",
    "    else:\n",
    "        numeric_cols = ['[QUOTE_DATETIME]', '[UNDERLYING_LAST]', '[DTE]', '[STRIKE]', '[P_DELTA]', '[P_GAMMA]', '[P_VEGA]',\n",
    "                        '[P_THETA]', '[P_RHO]', '[P_BID]', '[P_ASK]']\n",
    "\n",
    "    df[numeric_cols] = df[numeric_cols].apply(pd.to_numeric, errors='coerce')\n",
    "\n",
    "    # Calculate mid-price based on option type\n",
    "    if option_type == 'call':\n",
    "        df['CALL_EQUI_PRICE'] = (df['[C_BID]'] + df['[C_ASK]']) / 2\n",
    "    else:\n",
    "        df['PUT_EQUI_PRICE'] = (df['[P_BID]'] + df['[P_ASK]']) / 2\n",
    "\n",
    "    # Drop rows with missing essential data (dynamically chosen based on option type)\n",
    "    essential_cols = ['[QUOTE_DATETIME]', '[UNDERLYING_LAST]', '[DTE]', '[STRIKE]', 'hist_vol_20d']\n",
    "    if option_type == 'call':\n",
    "        essential_cols.append('CALL_EQUI_PRICE')\n",
    "    else:\n",
    "        essential_cols.append('PUT_EQUI_PRICE')\n",
    "    df.dropna(subset=essential_cols, inplace=True)\n",
    "\n",
    "    # Prepare option data based on the option type\n",
    "    if option_type == 'call':\n",
    "        option_cols = ['[STRIKE]', '[C_BID]', '[C_ASK]', '[QUOTE_DATETIME]', '[UNDERLYING_LAST]', '[DTE]', 'hist_vol_20d', 'CALL_EQUI_PRICE']\n",
    "        col_rename = ['strike_price', 'best_bid', 'best_ask', 'date', 'underlying_price', 'days_to_expiry', 'hist_volatility', 'equilibrium_price']\n",
    "    else:\n",
    "        option_cols = ['[STRIKE]', '[P_BID]', '[P_ASK]', '[QUOTE_DATETIME]', '[UNDERLYING_LAST]', '[DTE]', 'hist_vol_20d', 'PUT_EQUI_PRICE']\n",
    "        col_rename = ['strike_price', 'best_bid', 'best_ask', 'date', 'underlying_price', 'days_to_expiry', 'hist_volatility', 'equilibrium_price']\n",
    "\n",
    "    option_df = df[option_cols].copy()\n",
    "    option_df.columns = col_rename\n",
    "\n",
    "    # Normalize strike price and compute time to expiry in years\n",
    "    option_df['strike_price'] = option_df['strike_price'] / 1000\n",
    "    option_df['time_to_expiry'] = option_df['days_to_expiry'] / 365\n",
    "    option_df.drop('days_to_expiry', axis=1, inplace=True)\n",
    "    return option_df\n",
    "\n",
    "calls_df = cleaned_options(\"call\", df)\n",
    "puts_df = cleaned_options(\"put\", df)\n",
    "print(calls_df.columns.tolist())"
   ]
  },
  {
   "cell_type": "markdown",
   "metadata": {},
   "source": [
    "## Hyperparameters"
   ]
  },
  {
   "cell_type": "code",
   "execution_count": 36,
   "metadata": {},
   "outputs": [],
   "source": [
    "N_TIMESTEPS = 20\n",
    "NUM_FEATURES = 7\n",
    "HIDDEN_LAYERS = 2\n",
    "BATCH_SIZE = 1024\n",
    "EPOCHS = 60"
   ]
  },
  {
   "cell_type": "markdown",
   "metadata": {},
   "source": [
    "## Rolling Window Logic"
   ]
  },
  {
   "cell_type": "code",
   "execution_count": 20,
   "metadata": {},
   "outputs": [],
   "source": [
    "def build_rolling_sequences(\n",
    "    df,\n",
    "    date_col=\"date\",\n",
    "    input_cols=[\"underlying_price\", \"strike_price\", \"hist_volatility\"],\n",
    "    bid_col=\"best_bid\",\n",
    "    ask_col=\"best_ask\",\n",
    "    use_midpoint_target=True,     # If True, label = (best_bid + best_ask)/2\n",
    "    target_col=\"equilibrium_price\", \n",
    "    n_timesteps=20,\n",
    "    train_ratio=0.8\n",
    "):\n",
    "    \"\"\"\n",
    "    1) Sort df by 'date_col'.\n",
    "    2) For each row i from n_timesteps..end, builds a window [i-n_timesteps : i-1]\n",
    "       of the columns in 'input_cols'.\n",
    "    3) By default, label is midpoint of best_bid & best_ask at row i; \n",
    "       or specify 'target_col' if you prefer a single column as the label.\n",
    "    4) Returns X_train, X_test, y_train, y_test with time-based splitting.\n",
    "    \n",
    "    X shape: (num_samples, n_timesteps, len(input_cols))\n",
    "    y shape: (num_samples,)\n",
    "    \"\"\"\n",
    "    # Sort by date to ensure chronological order\n",
    "    df_sorted = df.sort_values(date_col).reset_index(drop=True)\n",
    "    n_rows = len(df_sorted)\n",
    "    \n",
    "    X_seq = []\n",
    "    y_seq = []\n",
    "    \n",
    "    # Build rolling windows\n",
    "    for i in range(n_timesteps, n_rows):\n",
    "        # Collect the last n_timesteps from each of the 'input_cols'\n",
    "        window_data = []\n",
    "        for col in input_cols:\n",
    "            col_window = df_sorted.loc[i - n_timesteps : i - 1, col].values\n",
    "            window_data.append(col_window)\n",
    "        \n",
    "        # Stack horizontally so shape is (n_timesteps, num_features)\n",
    "        window_data = np.column_stack(window_data)\n",
    "        \n",
    "        # Create the label (either midpoint or a specific column)\n",
    "        if use_midpoint_target:\n",
    "            label_val = (\n",
    "                df_sorted.loc[i, bid_col] +\n",
    "                df_sorted.loc[i, ask_col]\n",
    "            ) / 2\n",
    "        else:\n",
    "            label_val = df_sorted.loc[i, target_col]\n",
    "        \n",
    "        X_seq.append(window_data)\n",
    "        y_seq.append(label_val)\n",
    "    \n",
    "    # Convert to numpy arrays\n",
    "    X_seq = np.array(X_seq)  # (samples, n_timesteps, num_features)\n",
    "    y_seq = np.array(y_seq)  # (samples,)\n",
    "\n",
    "    # Time-based train-test split\n",
    "    n_samples = len(X_seq)\n",
    "    n_train = int(n_samples * train_ratio)\n",
    "    \n",
    "    X_train, X_test = X_seq[:n_train], X_seq[n_train:]\n",
    "    y_train, y_test = y_seq[:n_train], y_seq[n_train:]\n",
    "    \n",
    "    print(\"Total samples:\", n_samples)\n",
    "    print(\"Train samples:\", n_train, \"Test samples:\", n_samples - n_train)\n",
    "    print(\"X shape:\", X_seq.shape, \"y shape:\", y_seq.shape)\n",
    "    print(\"X_train:\", X_train.shape, \"y_train:\", y_train.shape)\n",
    "    print(\"X_test :\", X_test.shape,  \"y_test :\", y_test.shape)\n",
    "    \n",
    "    return X_train, X_test, y_train, y_test"
   ]
  },
  {
   "cell_type": "markdown",
   "metadata": {},
   "source": [
    "## Prepare Test Split"
   ]
  },
  {
   "cell_type": "code",
   "execution_count": 21,
   "metadata": {},
   "outputs": [
    {
     "name": "stdout",
     "output_type": "stream",
     "text": [
      "Total samples: 1549508\n",
      "Train samples: 1239606 Test samples: 309902\n",
      "X shape: (1549508, 20, 3) y shape: (1549508,)\n",
      "X_train: (1239606, 20, 3) y_train: (1239606,)\n",
      "X_test : (309902, 20, 3) y_test : (309902,)\n",
      "Total samples: 1549500\n",
      "Train samples: 1239600 Test samples: 309900\n",
      "X shape: (1549500, 20, 3) y shape: (1549500,)\n",
      "X_train: (1239600, 20, 3) y_train: (1239600,)\n",
      "X_test : (309900, 20, 3) y_test : (309900,)\n"
     ]
    }
   ],
   "source": [
    "# For CALLS:\n",
    "X_call_train, X_call_test, y_call_train, y_call_test = build_rolling_sequences(\n",
    "    df=calls_df,\n",
    "    date_col=\"date\",\n",
    "    input_cols=[\"underlying_price\", \"strike_price\", \"hist_volatility\"],\n",
    "    bid_col=\"best_bid\",\n",
    "    ask_col=\"best_ask\",\n",
    "    use_midpoint_target=True,    # True => label = midpoint\n",
    "    target_col=\"equilibrium_price\",\n",
    "    n_timesteps=N_TIMESTEPS,\n",
    "    train_ratio=0.8\n",
    ")\n",
    "\n",
    "# For PUTS (same idea):\n",
    "X_put_train, X_put_test, y_put_train, y_put_test = build_rolling_sequences(\n",
    "    df=puts_df,\n",
    "    date_col=\"date\",\n",
    "    input_cols=[\"underlying_price\", \"strike_price\", \"hist_volatility\"],\n",
    "    bid_col=\"best_bid\",\n",
    "    ask_col=\"best_ask\",\n",
    "    use_midpoint_target=True,\n",
    "    target_col=\"equilibrium_price\",\n",
    "    n_timesteps=N_TIMESTEPS,\n",
    "    train_ratio=0.8\n",
    ")"
   ]
  },
  {
   "cell_type": "markdown",
   "metadata": {},
   "source": [
    "## LSTM Model"
   ]
  },
  {
   "cell_type": "code",
   "execution_count": 22,
   "metadata": {},
   "outputs": [],
   "source": [
    "def create_lstm_model(n_timesteps, n_features, lstm_units=32, dense_layers=2, dense_units=64):\n",
    "    \"\"\"\n",
    "    Builds a basic LSTM model that outputs a single price prediction.\n",
    "    \"\"\"\n",
    "    inputs = Input(shape=(n_timesteps, n_features), name=\"lstm_input\")\n",
    "    \n",
    "    # LSTM stack (you can add more layers as needed)\n",
    "    x = LSTM(lstm_units, return_sequences=True)(inputs)\n",
    "    x = LSTM(lstm_units, return_sequences=False)(x)  # final LSTM layer\n",
    "    \n",
    "    # Dense feedforward layers\n",
    "    for _ in range(dense_layers):\n",
    "        x = Dense(dense_units)(x)\n",
    "        x = BatchNormalization()(x)\n",
    "        x = LeakyReLU()(x)\n",
    "    \n",
    "    # Output layer for a single price\n",
    "    outputs = Dense(1, activation='linear', name=\"price_output\")(x)\n",
    "    \n",
    "    model = Model(inputs=inputs, outputs=outputs)\n",
    "    model.compile(optimizer='adam', loss='mse')\n",
    "    return model"
   ]
  },
  {
   "cell_type": "markdown",
   "metadata": {},
   "source": [
    "## Training for Calls"
   ]
  },
  {
   "cell_type": "code",
   "execution_count": null,
   "metadata": {},
   "outputs": [
    {
     "name": "stdout",
     "output_type": "stream",
     "text": [
      "Epoch 1/5\n",
      "\u001b[1m1199/1199\u001b[0m \u001b[32m━━━━━━━━━━━━━━━━━━━━\u001b[0m\u001b[37m\u001b[0m \u001b[1m52s\u001b[0m 41ms/step - loss: 3528.3953 - val_loss: 3041.3716\n",
      "Epoch 2/5\n",
      "\u001b[1m1199/1199\u001b[0m \u001b[32m━━━━━━━━━━━━━━━━━━━━\u001b[0m\u001b[37m\u001b[0m \u001b[1m49s\u001b[0m 41ms/step - loss: 2717.5464 - val_loss: 1453.0043\n",
      "Epoch 3/5\n",
      "\u001b[1m1199/1199\u001b[0m \u001b[32m━━━━━━━━━━━━━━━━━━━━\u001b[0m\u001b[37m\u001b[0m \u001b[1m52s\u001b[0m 43ms/step - loss: 2099.1465 - val_loss: 3073.0771\n",
      "Epoch 4/5\n",
      "\u001b[1m1199/1199\u001b[0m \u001b[32m━━━━━━━━━━━━━━━━━━━━\u001b[0m\u001b[37m\u001b[0m \u001b[1m51s\u001b[0m 42ms/step - loss: 1563.4468 - val_loss: 880.8939\n",
      "Epoch 5/5\n",
      "\u001b[1m1199/1199\u001b[0m \u001b[32m━━━━━━━━━━━━━━━━━━━━\u001b[0m\u001b[37m\u001b[0m \u001b[1m49s\u001b[0m 41ms/step - loss: 1188.2710 - val_loss: 784.8933\n"
     ]
    },
    {
     "name": "stderr",
     "output_type": "stream",
     "text": [
      "WARNING:absl:You are saving your model as an HDF5 file via `model.save()` or `keras.saving.save_model(model)`. This file format is considered legacy. We recommend using instead the native Keras format, e.g. `model.save('my_model.keras')` or `keras.saving.save_model(model, 'my_model.keras')`. \n"
     ]
    }
   ],
   "source": [
    "n_timesteps = X_call_train.shape[1]\n",
    "n_features = X_call_train.shape[2]\n",
    "\n",
    "call_model = create_lstm_model(n_timesteps=n_timesteps, n_features=n_features)\n",
    "call_model.compile(optimizer=Adam(learning_rate=1e-5), loss='mse')\n",
    "\n",
    "call_history = call_model.fit(\n",
    "    X_call_train,\n",
    "    y_call_train,\n",
    "    batch_size=BATCH_SIZE,\n",
    "    epochs=EPOCHS,\n",
    "    validation_split=0.01,\n",
    "    callbacks=[TensorBoard(log_dir='./logs')],\n",
    "    verbose=1\n",
    ")\n",
    "\n",
    "call_model.save('call-lstm-v1.h5')"
   ]
  },
  {
   "cell_type": "markdown",
   "metadata": {},
   "source": [
    "## Training for Puts"
   ]
  },
  {
   "cell_type": "code",
   "execution_count": null,
   "metadata": {},
   "outputs": [],
   "source": [
    "n_timesteps = X_put_train.shape[1]\n",
    "n_features = X_put_train.shape[2]\n",
    "\n",
    "put_model = create_lstm_model(n_timesteps=n_timesteps, n_features=n_features)\n",
    "put_model.compile(optimizer=Adam(learning_rate=1e-5), loss='mse')\n",
    "\n",
    "put_history = put_model.fit(\n",
    "    X_put_train,\n",
    "    y_put_train,\n",
    "    batch_size=BATCH_SIZE,\n",
    "    epochs=EPOCHS,\n",
    "    validation_split=0.01,\n",
    "    callbacks=[TensorBoard(log_dir='./logs')],\n",
    "    verbose=1\n",
    ")\n",
    "\n",
    "put_model.save('put-lstm-v1.h5')"
   ]
  },
  {
   "cell_type": "markdown",
   "metadata": {},
   "source": [
    "## Test Models"
   ]
  },
  {
   "cell_type": "code",
   "execution_count": null,
   "metadata": {},
   "outputs": [
    {
     "data": {
      "image/png": "[encoded data removed]",
      "text/plain": [
       "<Figure size 800x600 with 1 Axes>"
      ]
     },
     "metadata": {},
     "output_type": "display_data"
    }
   ],
   "source": [
    "def plot_loss_convergence(history):\n",
    "    \"\"\"\n",
    "    Plots training vs validation loss over epochs.\n",
    "    \"\"\"\n",
    "    plt.figure(figsize=(8,6))\n",
    "    plt.plot(history.history['loss'], label='Training Loss')\n",
    "    if 'val_loss' in history.history:\n",
    "        plt.plot(history.history['val_loss'], label='Validation Loss')\n",
    "    plt.title(\"Loss Convergence\")\n",
    "    plt.xlabel(\"Epoch\")\n",
    "    plt.ylabel(\"Loss (MSE)\")\n",
    "    plt.legend()\n",
    "    plt.show()\n",
    "\n",
    "plot_loss_convergence(call_history)\n",
    "plot_loss_convergence(put_history)"
   ]
  }
 ],
 "metadata": {
  "kernelspec": {
   "display_name": ".venv",
   "language": "python",
   "name": "python3"
  },
  "language_info": {
   "codemirror_mode": {
    "name": "ipython",
    "version": 3
   },
   "file_extension": ".py",
   "mimetype": "text/x-python",
   "name": "python",
   "nbconvert_exporter": "python",
   "pygments_lexer": "ipython3",
   "version": "3.12.9"
  }
 },
 "nbformat": 4,
 "nbformat_minor": 2
}
