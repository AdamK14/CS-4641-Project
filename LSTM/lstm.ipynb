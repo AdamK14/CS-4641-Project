{
 "cells": [
  {
   "cell_type": "markdown",
   "metadata": {},
   "source": [
    "## Libraries & Constants\n"
   ]
  },
  {
   "cell_type": "code",
   "execution_count": 62,
   "metadata": {},
   "outputs": [],
   "source": [
    "import pandas as pd\n",
    "import numpy as np\n",
    "from keras.models import Model, Sequential, load_model\n",
    "from keras.layers import Input, LSTM, Dense, Concatenate, BatchNormalization, LeakyReLU\n",
    "from keras.optimizers import Adam\n",
    "from keras.callbacks import TensorBoard\n",
    "from sklearn.preprocessing import StandardScaler\n",
    "from sklearn.model_selection import train_test_split\n",
    "import matplotlib.pyplot as plt"
   ]
  },
  {
   "cell_type": "markdown",
   "metadata": {},
   "source": [
    "## Data Pre-Processing"
   ]
  },
  {
   "cell_type": "code",
   "execution_count": 49,
   "metadata": {},
   "outputs": [
    {
     "name": "stdout",
     "output_type": "stream",
     "text": [
      "['[QUOTE_UNIXTIME]', '[QUOTE_READTIME]', '[QUOTE_DATE]', '[QUOTE_TIME_HOURS]', '[UNDERLYING_LAST]', '[EXPIRE_DATE]', '[EXPIRE_UNIX]', '[DTE]', '[C_DELTA]', '[C_GAMMA]', '[C_VEGA]', '[C_THETA]', '[C_RHO]', '[C_IV]', '[C_VOLUME]', '[C_LAST]', '[C_SIZE]', '[C_BID]', '[C_ASK]', '[STRIKE]', '[P_BID]', '[P_ASK]', '[P_SIZE]', '[P_LAST]', '[P_DELTA]', '[P_GAMMA]', '[P_VEGA]', '[P_THETA]', '[P_RHO]', '[P_IV]', '[P_VOLUME]', '[STRIKE_DISTANCE]', '[STRIKE_DISTANCE_PCT]']\n",
      "                        date  underlying_price  strike_price  hist_volatility  \\\n",
      "1188485  1646082000000000000            164.95        0.1750         0.229550   \n",
      "1421487  1614891600000000000            120.30        0.0575         0.305353   \n",
      "502995   1541624400000000000            209.96        0.2250         0.411440   \n",
      "883798   1494273600000000000            153.01        0.1500         0.154287   \n",
      "478257   1524600000000000000            162.94        0.1850         0.268627   \n",
      "\n",
      "           delta    gamma     vega    theta      rho  equilibrium_price  \\\n",
      "1188485  0.19411  0.02506  0.12015 -0.05843  0.02114              1.140   \n",
      "1421487  1.00000  0.00000  0.00000 -0.00035  0.16818             62.650   \n",
      "502995   0.04580  0.01064  0.03355 -0.03774  0.00268              0.165   \n",
      "883798   0.60473  0.03420  0.26529 -0.02622  0.15988              5.960   \n",
      "478257   0.26914  0.01071  0.40389 -0.02311  0.21763              4.625   \n",
      "\n",
      "         time_to_expiry  \n",
      "1188485        0.068384  \n",
      "1421487        0.290301  \n",
      "502995         0.024658  \n",
      "883798         0.202740  \n",
      "478257         0.564493  \n",
      "                        date  underlying_price  strike_price  hist_volatility  \\\n",
      "1477842  1613682000000000000            129.71       0.11000         0.309035   \n",
      "454800   1515445200000000000            174.35       0.02250         0.164591   \n",
      "1528307  1660075200000000000            164.92       0.18500         0.267282   \n",
      "1144134  1652990400000000000            137.28       0.04875         0.537136   \n",
      "832645   1498852800000000000            144.03       0.19500         0.230002   \n",
      "\n",
      "           delta    gamma     vega    theta      rho  equilibrium_price  \\\n",
      "1477842 -0.23225  0.00844  0.30242 -0.02613 -0.20237              5.680   \n",
      "454800  -0.00044  0.00005  0.00027 -0.00161 -0.00010              0.010   \n",
      "1528307 -0.60725  0.00989  0.57711 -0.02024 -0.73258             27.800   \n",
      "1144134 -0.00293  0.00011  0.00624 -0.00167 -0.00104              0.045   \n",
      "832645  -1.00000  0.00000  0.00000  0.00000  0.00000             50.780   \n",
      "\n",
      "         time_to_expiry  \n",
      "1477842        0.577973  \n",
      "454800         0.106849  \n",
      "1528307        0.852055  \n",
      "1144134        0.328767  \n",
      "832645         0.076712  \n"
     ]
    }
   ],
   "source": [
    "# Load and combine data\n",
    "PATH_TO_FILE_1 = \"../raw data/aapl_2016_2020.csv\"\n",
    "PATH_TO_FILE_2 = \"../raw data/aapl_2021_2023.csv\"\n",
    "half_1 = pd.read_csv(PATH_TO_FILE_1, low_memory=False)\n",
    "half_2 = pd.read_csv(PATH_TO_FILE_2, low_memory=False)\n",
    "df = pd.concat([half_1, half_2], ignore_index=True)\n",
    "df.columns = df.columns.str.strip()\n",
    "print(df.columns.tolist())\n",
    "\n",
    "def cleaned_options(option_type, df):\n",
    "    # Convert Unix timestamps to datetime\n",
    "    df['[QUOTE_DATETIME]'] = pd.to_datetime(df['[QUOTE_UNIXTIME]'], unit='s')\n",
    "    df['EXPIRE_DATETIME'] = pd.to_datetime(df['[EXPIRE_UNIX]'], unit='s')\n",
    "\n",
    "    # Load underlying price data for volatility computation\n",
    "    underlying_prices = df[['[QUOTE_DATETIME]', '[UNDERLYING_LAST]']].drop_duplicates().set_index('[QUOTE_DATETIME]').sort_index()\n",
    "\n",
    "    # Function to compute historical volatility\n",
    "    def historical_volatility(series, window=20):\n",
    "        return np.sqrt(252) * series.pct_change().rolling(window=window).std()\n",
    "\n",
    "    # Compute 20-day historical volatility\n",
    "    underlying_prices['hist_vol_20d'] = historical_volatility(underlying_prices['[UNDERLYING_LAST]'])\n",
    "    underlying_prices.dropna(inplace=True)\n",
    "\n",
    "    # Merge historical volatility back into main dataframe\n",
    "    df = df.merge(underlying_prices[['hist_vol_20d']], left_on='[QUOTE_DATETIME]', right_index=True, how='inner')\n",
    "\n",
    "    # Columns to numeric conversion: choose columns based on option type\n",
    "    if option_type == 'call':\n",
    "        numeric_cols = ['[QUOTE_DATETIME]', '[UNDERLYING_LAST]', '[DTE]', '[STRIKE]', '[C_DELTA]', '[C_GAMMA]', '[C_VEGA]',\n",
    "                        '[C_THETA]', '[C_RHO]', '[C_BID]', '[C_ASK]']\n",
    "    else:\n",
    "        numeric_cols = ['[QUOTE_DATETIME]', '[UNDERLYING_LAST]', '[DTE]', '[STRIKE]', '[P_DELTA]', '[P_GAMMA]', '[P_VEGA]',\n",
    "                        '[P_THETA]', '[P_RHO]', '[P_BID]', '[P_ASK]']\n",
    "\n",
    "    df[numeric_cols] = df[numeric_cols].apply(pd.to_numeric, errors='coerce')\n",
    "\n",
    "    # Calculate mid-price based on option type\n",
    "    if option_type == 'call':\n",
    "        df['CALL_EQUI_PRICE'] = (df['[C_BID]'] + df['[C_ASK]']) / 2\n",
    "    else:\n",
    "        df['PUT_EQUI_PRICE'] = (df['[P_BID]'] + df['[P_ASK]']) / 2\n",
    "\n",
    "    # Drop rows with missing essential data (dynamically chosen based on option type)\n",
    "    essential_cols = ['[QUOTE_DATETIME]', '[UNDERLYING_LAST]', '[DTE]', '[STRIKE]', 'hist_vol_20d']\n",
    "    if option_type == 'call':\n",
    "        essential_cols.append('CALL_EQUI_PRICE')\n",
    "    else:\n",
    "        essential_cols.append('PUT_EQUI_PRICE')\n",
    "    df.dropna(subset=essential_cols, inplace=True)\n",
    "\n",
    "    # Prepare option data based on the option type\n",
    "    if option_type == 'call':\n",
    "        option_cols = ['[QUOTE_DATETIME]', '[UNDERLYING_LAST]', '[STRIKE]', '[DTE]', 'hist_vol_20d', \n",
    "                    '[C_DELTA]', '[C_GAMMA]', '[C_VEGA]', '[C_THETA]', '[C_RHO]', 'CALL_EQUI_PRICE']\n",
    "        col_rename = ['date', 'underlying_price', 'strike_price', 'days_to_expiry', 'hist_volatility', \n",
    "                    'delta', 'gamma', 'vega', 'theta', 'rho', 'equilibrium_price']\n",
    "    else:\n",
    "        option_cols = ['[QUOTE_DATETIME]', '[UNDERLYING_LAST]', '[STRIKE]', '[DTE]', 'hist_vol_20d', \n",
    "                    '[P_DELTA]', '[P_GAMMA]', '[P_VEGA]', '[P_THETA]', '[P_RHO]', 'PUT_EQUI_PRICE']\n",
    "        col_rename = ['date', 'underlying_price', 'strike_price', 'days_to_expiry', 'hist_volatility', \n",
    "                    'delta', 'gamma', 'vega', 'theta', 'rho', 'equilibrium_price']\n",
    "\n",
    "    option_df = df[option_cols].copy()\n",
    "    option_df.columns = col_rename\n",
    "\n",
    "    # Normalize strike price and compute time to expiry in years\n",
    "    option_df['strike_price'] = option_df['strike_price'] / 1000\n",
    "    option_df['time_to_expiry'] = option_df['days_to_expiry'] / 365\n",
    "    option_df.drop('days_to_expiry', axis=1, inplace=True)\n",
    "    return option_df\n",
    "\n",
    "calls_df = cleaned_options(\"call\", df)\n",
    "puts_df = cleaned_options(\"put\", df)\n",
    "print(calls_df.sample(5))\n",
    "print(puts_df.sample(5))"
   ]
  },
  {
   "cell_type": "markdown",
   "metadata": {},
   "source": [
    "## Hyperparameters"
   ]
  },
  {
   "cell_type": "code",
   "execution_count": 59,
   "metadata": {},
   "outputs": [],
   "source": [
    "N_TIMESTEPS = 20\n",
    "NUM_FEATURES = 7\n",
    "HIDDEN_LAYERS = 2\n",
    "BATCH_SIZE = 2048\n",
    "EPOCHS = 5"
   ]
  },
  {
   "cell_type": "markdown",
   "metadata": {},
   "source": [
    "## Prepare Test and Training Split"
   ]
  },
  {
   "cell_type": "code",
   "execution_count": null,
   "metadata": {},
   "outputs": [
    {
     "name": "stdout",
     "output_type": "stream",
     "text": [
      "CALLS:\n",
      "Train shapes: (1239606, 20, 1) (1239606,)\n",
      "Test shapes : (309902, 20, 1) (309902,)\n",
      "\n",
      "PUTS:\n",
      "Train shapes: (1239600, 20, 1) (1239600,)\n",
      "Test shapes : (309900, 20, 1) (309900,)\n"
     ]
    }
   ],
   "source": [
    "def build_price_sequences(df, n_timesteps=20, date_col='date', price_col='underlying_price'):\n",
    "    \"\"\"\n",
    "    Sorts by 'date', then builds rolling sequences of length n_timesteps\n",
    "    for the 'underlying_price', returning:\n",
    "      - X_seq: shape (num_rows, n_timesteps, 1)\n",
    "      - valid_mask: boolean array indicating which rows have a full n_timesteps history\n",
    "    \"\"\"\n",
    "    df_sorted = df.sort_values(date_col).reset_index(drop=True)\n",
    "    n_rows = len(df_sorted)\n",
    "    \n",
    "    X_seq = np.zeros((n_rows, n_timesteps, 1), dtype=np.float32)\n",
    "    valid_mask = np.ones(n_rows, dtype=bool)\n",
    "    \n",
    "    for i in range(n_rows):\n",
    "        if i < n_timesteps:\n",
    "            valid_mask[i] = False\n",
    "            continue\n",
    "        # last n_timesteps of underlying_price up to row i-1\n",
    "        window = df_sorted.loc[i - n_timesteps : i - 1, price_col].values\n",
    "        X_seq[i] = window.reshape(n_timesteps, 1)\n",
    "    \n",
    "    return X_seq, valid_mask\n",
    "\n",
    "# -------------------- Calls --------------------\n",
    "N_TIMESTEPS = 20\n",
    "call_seq, call_valid = build_price_sequences(calls_df, n_timesteps=N_TIMESTEPS)\n",
    "\n",
    "# Keep only rows with a complete sequence\n",
    "calls_clean = calls_df[call_valid].copy().reset_index(drop=True)\n",
    "X_call = call_seq[call_valid]  # shape = (valid_count, n_timesteps, 1)\n",
    "y_call = calls_clean['equilibrium_price'].values  # shape = (valid_count,)\n",
    "\n",
    "# 80% train, 20% test (time-based split)\n",
    "train_ratio = 0.8\n",
    "n_call = len(X_call)\n",
    "n_call_train = int(n_call * train_ratio)\n",
    "X_call_train, X_call_test = X_call[:n_call_train], X_call[n_call_train:]\n",
    "y_call_train, y_call_test = y_call[:n_call_train], y_call[n_call_train:]\n",
    "\n",
    "print(\"CALLS:\")\n",
    "print(\"Train shapes:\", X_call_train.shape, y_call_train.shape)\n",
    "print(\"Test shapes :\", X_call_test.shape, y_call_test.shape)\n",
    "\n",
    "# -------------------- Puts --------------------\n",
    "put_seq, put_valid = build_price_sequences(puts_df, n_timesteps=N_TIMESTEPS)\n",
    "\n",
    "puts_clean = puts_df[put_valid].copy().reset_index(drop=True)\n",
    "X_put = put_seq[put_valid]\n",
    "y_put = puts_clean['equilibrium_price'].values\n",
    "\n",
    "n_put = len(X_put)\n",
    "n_put_train = int(n_put * train_ratio)\n",
    "X_put_train, X_put_test = X_put[:n_put_train], X_put[n_put_train:]\n",
    "y_put_train, y_put_test = y_put[:n_put_train], y_put[n_put_train:]\n",
    "\n",
    "print(\"\\nPUTS:\")\n",
    "print(\"Train shapes:\", X_put_train.shape, y_put_train.shape)\n",
    "print(\"Test shapes :\", X_put_test.shape, y_put_test.shape)"
   ]
  },
  {
   "cell_type": "markdown",
   "metadata": {},
   "source": [
    "## LSTM Model"
   ]
  },
  {
   "cell_type": "code",
   "execution_count": 64,
   "metadata": {},
   "outputs": [
    {
     "name": "stderr",
     "output_type": "stream",
     "text": [
      "c:\\GitHub Repos\\CS-4641-Project\\.venv\\Lib\\site-packages\\keras\\src\\layers\\rnn\\rnn.py:200: UserWarning: Do not pass an `input_shape`/`input_dim` argument to a layer. When using Sequential models, prefer using an `Input(shape)` object as the first layer in the model instead.\n",
      "  super().__init__(**kwargs)\n"
     ]
    },
    {
     "data": {
      "text/html": [
       "<pre style=\"white-space:pre;overflow-x:auto;line-height:normal;font-family:Menlo,'DejaVu Sans Mono',consolas,'Courier New',monospace\"><span style=\"font-weight: bold\">Model: \"functional_37\"</span>\n",
       "</pre>\n"
      ],
      "text/plain": [
       "\u001b[1mModel: \"functional_37\"\u001b[0m\n"
      ]
     },
     "metadata": {},
     "output_type": "display_data"
    },
    {
     "data": {
      "text/html": [
       "<pre style=\"white-space:pre;overflow-x:auto;line-height:normal;font-family:Menlo,'DejaVu Sans Mono',consolas,'Courier New',monospace\">┏━━━━━━━━━━━━━━━━━━━━━┳━━━━━━━━━━━━━━━━━━━┳━━━━━━━━━━━━┳━━━━━━━━━━━━━━━━━━━┓\n",
       "┃<span style=\"font-weight: bold\"> Layer (type)        </span>┃<span style=\"font-weight: bold\"> Output Shape      </span>┃<span style=\"font-weight: bold\">    Param # </span>┃<span style=\"font-weight: bold\"> Connected to      </span>┃\n",
       "┡━━━━━━━━━━━━━━━━━━━━━╇━━━━━━━━━━━━━━━━━━━╇━━━━━━━━━━━━╇━━━━━━━━━━━━━━━━━━━┩\n",
       "│ lstm_input          │ (<span style=\"color: #00d7ff; text-decoration-color: #00d7ff\">None</span>, <span style=\"color: #00af00; text-decoration-color: #00af00\">20</span>, <span style=\"color: #00af00; text-decoration-color: #00af00\">1</span>)     │          <span style=\"color: #00af00; text-decoration-color: #00af00\">0</span> │ -                 │\n",
       "│ (<span style=\"color: #0087ff; text-decoration-color: #0087ff\">InputLayer</span>)        │                   │            │                   │\n",
       "├─────────────────────┼───────────────────┼────────────┼───────────────────┤\n",
       "│ sequential_8        │ (<span style=\"color: #00d7ff; text-decoration-color: #00d7ff\">None</span>, <span style=\"color: #00af00; text-decoration-color: #00af00\">8</span>)         │      <span style=\"color: #00af00; text-decoration-color: #00af00\">1,952</span> │ lstm_input[<span style=\"color: #00af00; text-decoration-color: #00af00\">0</span>][<span style=\"color: #00af00; text-decoration-color: #00af00\">0</span>]  │\n",
       "│ (<span style=\"color: #0087ff; text-decoration-color: #0087ff\">Sequential</span>)        │                   │            │                   │\n",
       "├─────────────────────┼───────────────────┼────────────┼───────────────────┤\n",
       "│ static_features     │ (<span style=\"color: #00d7ff; text-decoration-color: #00d7ff\">None</span>, <span style=\"color: #00af00; text-decoration-color: #00af00\">7</span>)         │          <span style=\"color: #00af00; text-decoration-color: #00af00\">0</span> │ -                 │\n",
       "│ (<span style=\"color: #0087ff; text-decoration-color: #0087ff\">InputLayer</span>)        │                   │            │                   │\n",
       "├─────────────────────┼───────────────────┼────────────┼───────────────────┤\n",
       "│ concatenate_12      │ (<span style=\"color: #00d7ff; text-decoration-color: #00d7ff\">None</span>, <span style=\"color: #00af00; text-decoration-color: #00af00\">15</span>)        │          <span style=\"color: #00af00; text-decoration-color: #00af00\">0</span> │ sequential_8[<span style=\"color: #00af00; text-decoration-color: #00af00\">0</span>][<span style=\"color: #00af00; text-decoration-color: #00af00\">…</span> │\n",
       "│ (<span style=\"color: #0087ff; text-decoration-color: #0087ff\">Concatenate</span>)       │                   │            │ static_features[<span style=\"color: #00af00; text-decoration-color: #00af00\">…</span> │\n",
       "├─────────────────────┼───────────────────┼────────────┼───────────────────┤\n",
       "│ dense_40 (<span style=\"color: #0087ff; text-decoration-color: #0087ff\">Dense</span>)    │ (<span style=\"color: #00d7ff; text-decoration-color: #00d7ff\">None</span>, <span style=\"color: #00af00; text-decoration-color: #00af00\">100</span>)       │      <span style=\"color: #00af00; text-decoration-color: #00af00\">1,600</span> │ concatenate_12[<span style=\"color: #00af00; text-decoration-color: #00af00\">0</span>… │\n",
       "├─────────────────────┼───────────────────┼────────────┼───────────────────┤\n",
       "│ batch_normalizatio… │ (<span style=\"color: #00d7ff; text-decoration-color: #00d7ff\">None</span>, <span style=\"color: #00af00; text-decoration-color: #00af00\">100</span>)       │        <span style=\"color: #00af00; text-decoration-color: #00af00\">400</span> │ dense_40[<span style=\"color: #00af00; text-decoration-color: #00af00\">0</span>][<span style=\"color: #00af00; text-decoration-color: #00af00\">0</span>]    │\n",
       "│ (<span style=\"color: #0087ff; text-decoration-color: #0087ff\">BatchNormalizatio…</span> │                   │            │                   │\n",
       "├─────────────────────┼───────────────────┼────────────┼───────────────────┤\n",
       "│ leaky_re_lu_28      │ (<span style=\"color: #00d7ff; text-decoration-color: #00d7ff\">None</span>, <span style=\"color: #00af00; text-decoration-color: #00af00\">100</span>)       │          <span style=\"color: #00af00; text-decoration-color: #00af00\">0</span> │ batch_normalizat… │\n",
       "│ (<span style=\"color: #0087ff; text-decoration-color: #0087ff\">LeakyReLU</span>)         │                   │            │                   │\n",
       "├─────────────────────┼───────────────────┼────────────┼───────────────────┤\n",
       "│ dense_41 (<span style=\"color: #0087ff; text-decoration-color: #0087ff\">Dense</span>)    │ (<span style=\"color: #00d7ff; text-decoration-color: #00d7ff\">None</span>, <span style=\"color: #00af00; text-decoration-color: #00af00\">1</span>)         │        <span style=\"color: #00af00; text-decoration-color: #00af00\">101</span> │ leaky_re_lu_28[<span style=\"color: #00af00; text-decoration-color: #00af00\">0</span>… │\n",
       "└─────────────────────┴───────────────────┴────────────┴───────────────────┘\n",
       "</pre>\n"
      ],
      "text/plain": [
       "┏━━━━━━━━━━━━━━━━━━━━━┳━━━━━━━━━━━━━━━━━━━┳━━━━━━━━━━━━┳━━━━━━━━━━━━━━━━━━━┓\n",
       "┃\u001b[1m \u001b[0m\u001b[1mLayer (type)       \u001b[0m\u001b[1m \u001b[0m┃\u001b[1m \u001b[0m\u001b[1mOutput Shape     \u001b[0m\u001b[1m \u001b[0m┃\u001b[1m \u001b[0m\u001b[1m   Param #\u001b[0m\u001b[1m \u001b[0m┃\u001b[1m \u001b[0m\u001b[1mConnected to     \u001b[0m\u001b[1m \u001b[0m┃\n",
       "┡━━━━━━━━━━━━━━━━━━━━━╇━━━━━━━━━━━━━━━━━━━╇━━━━━━━━━━━━╇━━━━━━━━━━━━━━━━━━━┩\n",
       "│ lstm_input          │ (\u001b[38;5;45mNone\u001b[0m, \u001b[38;5;34m20\u001b[0m, \u001b[38;5;34m1\u001b[0m)     │          \u001b[38;5;34m0\u001b[0m │ -                 │\n",
       "│ (\u001b[38;5;33mInputLayer\u001b[0m)        │                   │            │                   │\n",
       "├─────────────────────┼───────────────────┼────────────┼───────────────────┤\n",
       "│ sequential_8        │ (\u001b[38;5;45mNone\u001b[0m, \u001b[38;5;34m8\u001b[0m)         │      \u001b[38;5;34m1,952\u001b[0m │ lstm_input[\u001b[38;5;34m0\u001b[0m][\u001b[38;5;34m0\u001b[0m]  │\n",
       "│ (\u001b[38;5;33mSequential\u001b[0m)        │                   │            │                   │\n",
       "├─────────────────────┼───────────────────┼────────────┼───────────────────┤\n",
       "│ static_features     │ (\u001b[38;5;45mNone\u001b[0m, \u001b[38;5;34m7\u001b[0m)         │          \u001b[38;5;34m0\u001b[0m │ -                 │\n",
       "│ (\u001b[38;5;33mInputLayer\u001b[0m)        │                   │            │                   │\n",
       "├─────────────────────┼───────────────────┼────────────┼───────────────────┤\n",
       "│ concatenate_12      │ (\u001b[38;5;45mNone\u001b[0m, \u001b[38;5;34m15\u001b[0m)        │          \u001b[38;5;34m0\u001b[0m │ sequential_8[\u001b[38;5;34m0\u001b[0m][\u001b[38;5;34m…\u001b[0m │\n",
       "│ (\u001b[38;5;33mConcatenate\u001b[0m)       │                   │            │ static_features[\u001b[38;5;34m…\u001b[0m │\n",
       "├─────────────────────┼───────────────────┼────────────┼───────────────────┤\n",
       "│ dense_40 (\u001b[38;5;33mDense\u001b[0m)    │ (\u001b[38;5;45mNone\u001b[0m, \u001b[38;5;34m100\u001b[0m)       │      \u001b[38;5;34m1,600\u001b[0m │ concatenate_12[\u001b[38;5;34m0\u001b[0m… │\n",
       "├─────────────────────┼───────────────────┼────────────┼───────────────────┤\n",
       "│ batch_normalizatio… │ (\u001b[38;5;45mNone\u001b[0m, \u001b[38;5;34m100\u001b[0m)       │        \u001b[38;5;34m400\u001b[0m │ dense_40[\u001b[38;5;34m0\u001b[0m][\u001b[38;5;34m0\u001b[0m]    │\n",
       "│ (\u001b[38;5;33mBatchNormalizatio…\u001b[0m │                   │            │                   │\n",
       "├─────────────────────┼───────────────────┼────────────┼───────────────────┤\n",
       "│ leaky_re_lu_28      │ (\u001b[38;5;45mNone\u001b[0m, \u001b[38;5;34m100\u001b[0m)       │          \u001b[38;5;34m0\u001b[0m │ batch_normalizat… │\n",
       "│ (\u001b[38;5;33mLeakyReLU\u001b[0m)         │                   │            │                   │\n",
       "├─────────────────────┼───────────────────┼────────────┼───────────────────┤\n",
       "│ dense_41 (\u001b[38;5;33mDense\u001b[0m)    │ (\u001b[38;5;45mNone\u001b[0m, \u001b[38;5;34m1\u001b[0m)         │        \u001b[38;5;34m101\u001b[0m │ leaky_re_lu_28[\u001b[38;5;34m0\u001b[0m… │\n",
       "└─────────────────────┴───────────────────┴────────────┴───────────────────┘\n"
      ]
     },
     "metadata": {},
     "output_type": "display_data"
    },
    {
     "data": {
      "text/html": [
       "<pre style=\"white-space:pre;overflow-x:auto;line-height:normal;font-family:Menlo,'DejaVu Sans Mono',consolas,'Courier New',monospace\"><span style=\"font-weight: bold\"> Total params: </span><span style=\"color: #00af00; text-decoration-color: #00af00\">4,053</span> (15.83 KB)\n",
       "</pre>\n"
      ],
      "text/plain": [
       "\u001b[1m Total params: \u001b[0m\u001b[38;5;34m4,053\u001b[0m (15.83 KB)\n"
      ]
     },
     "metadata": {},
     "output_type": "display_data"
    },
    {
     "data": {
      "text/html": [
       "<pre style=\"white-space:pre;overflow-x:auto;line-height:normal;font-family:Menlo,'DejaVu Sans Mono',consolas,'Courier New',monospace\"><span style=\"font-weight: bold\"> Trainable params: </span><span style=\"color: #00af00; text-decoration-color: #00af00\">3,853</span> (15.05 KB)\n",
       "</pre>\n"
      ],
      "text/plain": [
       "\u001b[1m Trainable params: \u001b[0m\u001b[38;5;34m3,853\u001b[0m (15.05 KB)\n"
      ]
     },
     "metadata": {},
     "output_type": "display_data"
    },
    {
     "data": {
      "text/html": [
       "<pre style=\"white-space:pre;overflow-x:auto;line-height:normal;font-family:Menlo,'DejaVu Sans Mono',consolas,'Courier New',monospace\"><span style=\"font-weight: bold\"> Non-trainable params: </span><span style=\"color: #00af00; text-decoration-color: #00af00\">200</span> (800.00 B)\n",
       "</pre>\n"
      ],
      "text/plain": [
       "\u001b[1m Non-trainable params: \u001b[0m\u001b[38;5;34m200\u001b[0m (800.00 B)\n"
      ]
     },
     "metadata": {},
     "output_type": "display_data"
    }
   ],
   "source": [
    "def make_model(n_timesteps=N_TIMESTEPS, features=NUM_FEATURES, layers=HIDDEN_LAYERS):\n",
    "    # Time-series input (20x1)\n",
    "    close_history = Input(shape=(n_timesteps, 1), name='lstm_input')\n",
    "    \n",
    "    # Static features input\n",
    "    input2 = Input(shape=(features,), name='static_features')\n",
    "    \n",
    "    # Build LSTM stack\n",
    "    lstm_seq = Sequential([\n",
    "        LSTM(8, return_sequences=True, input_shape=(n_timesteps, 1)),\n",
    "        LSTM(8, return_sequences=True),\n",
    "        LSTM(8, return_sequences=True),\n",
    "        LSTM(8, return_sequences=False)\n",
    "    ])\n",
    "    x1 = lstm_seq(close_history)\n",
    "    \n",
    "    # Concatenate LSTM output + static features\n",
    "    x = Concatenate()([x1, input2])\n",
    "    \n",
    "    # Dense layers\n",
    "    for _ in range(layers - 1):\n",
    "        x = Dense(100)(x)\n",
    "        x = BatchNormalization()(x)\n",
    "        x = LeakyReLU()(x)\n",
    "\n",
    "    # Final output\n",
    "    predict = Dense(1, activation='relu')(x)\n",
    "    \n",
    "    return Model(inputs=[close_history, input2], outputs=predict)\n",
    "\n",
    "calls_model = make_model()\n",
    "puts_model = make_model()\n",
    "\n",
    "calls_model.summary()"
   ]
  },
  {
   "cell_type": "markdown",
   "metadata": {},
   "source": [
    "## Define Static Features"
   ]
  },
  {
   "cell_type": "code",
   "execution_count": 60,
   "metadata": {},
   "outputs": [
    {
     "name": "stdout",
     "output_type": "stream",
     "text": [
      "Calls train shapes: (1239606, 20, 1) (1239606, 7) (1239606,)\n",
      "Calls test  shapes: (309902, 20, 1) (309902, 7) (309902,)\n",
      "\n",
      "Puts train shapes: (1239600, 20, 1) (1239600, 7) (1239600,)\n",
      "Puts test  shapes: (309900, 20, 1) (309900, 7) (309900,)\n"
     ]
    }
   ],
   "source": [
    "static_cols = ['strike_price','hist_volatility','delta','gamma','vega','theta','rho']\n",
    "N_TIMESTEPS = 20\n",
    "train_ratio = 0.8\n",
    "\n",
    "#################################\n",
    "# Calls\n",
    "#################################\n",
    "call_seq, call_valid = build_price_sequences(calls_df, n_timesteps=N_TIMESTEPS)\n",
    "calls_clean = calls_df[call_valid].reset_index(drop=True)\n",
    "\n",
    "X_call = call_seq[call_valid]                                 # shape: (num_valid_rows, 20, 1)\n",
    "y_call = calls_clean['equilibrium_price'].values              # shape: (num_valid_rows,)\n",
    "calls_static = calls_clean[static_cols].values                # shape: (num_valid_rows, len(static_cols))\n",
    "\n",
    "n_call = len(X_call)\n",
    "n_call_train = int(n_call * train_ratio)\n",
    "\n",
    "X_call_train, X_call_test       = X_call[:n_call_train],       X_call[n_call_train:]\n",
    "y_call_train, y_call_test       = y_call[:n_call_train],       y_call[n_call_train:]\n",
    "calls_static_train, calls_static_test = calls_static[:n_call_train], calls_static[n_call_train:]\n",
    "\n",
    "print(\"Calls train shapes:\", X_call_train.shape, calls_static_train.shape, y_call_train.shape)\n",
    "print(\"Calls test  shapes:\", X_call_test.shape,  calls_static_test.shape,  y_call_test.shape)\n",
    "\n",
    "#################################\n",
    "# Puts\n",
    "#################################\n",
    "put_seq, put_valid = build_price_sequences(puts_df, n_timesteps=N_TIMESTEPS)\n",
    "puts_clean = puts_df[put_valid].reset_index(drop=True)\n",
    "\n",
    "X_put = put_seq[put_valid]\n",
    "y_put = puts_clean['equilibrium_price'].values\n",
    "puts_static = puts_clean[static_cols].values\n",
    "\n",
    "n_put = len(X_put)\n",
    "n_put_train = int(n_put * train_ratio)\n",
    "\n",
    "X_put_train, X_put_test       = X_put[:n_put_train],       X_put[n_put_train:]\n",
    "y_put_train, y_put_test       = y_put[:n_put_train],       y_put[n_put_train:]\n",
    "puts_static_train, puts_static_test = puts_static[:n_put_train], puts_static[n_put_train:]\n",
    "\n",
    "print(\"\\nPuts train shapes:\", X_put_train.shape, puts_static_train.shape, y_put_train.shape)\n",
    "print(\"Puts test  shapes:\", X_put_test.shape,  puts_static_test.shape,  y_put_test.shape)"
   ]
  },
  {
   "cell_type": "markdown",
   "metadata": {},
   "source": [
    "## Training for Calls"
   ]
  },
  {
   "cell_type": "code",
   "execution_count": 61,
   "metadata": {},
   "outputs": [
    {
     "name": "stdout",
     "output_type": "stream",
     "text": [
      "Epoch 1/5\n",
      "\u001b[1m600/600\u001b[0m \u001b[32m━━━━━━━━━━━━━━━━━━━━\u001b[0m\u001b[37m\u001b[0m \u001b[1m39s\u001b[0m 58ms/step - loss: 1144.4031 - val_loss: 470.0856\n",
      "Epoch 2/5\n",
      "\u001b[1m600/600\u001b[0m \u001b[32m━━━━━━━━━━━━━━━━━━━━\u001b[0m\u001b[37m\u001b[0m \u001b[1m35s\u001b[0m 59ms/step - loss: 865.6392 - val_loss: 667.5805\n",
      "Epoch 3/5\n",
      "\u001b[1m600/600\u001b[0m \u001b[32m━━━━━━━━━━━━━━━━━━━━\u001b[0m\u001b[37m\u001b[0m \u001b[1m34s\u001b[0m 57ms/step - loss: 796.8112 - val_loss: 697.2238\n",
      "Epoch 4/5\n",
      "\u001b[1m600/600\u001b[0m \u001b[32m━━━━━━━━━━━━━━━━━━━━\u001b[0m\u001b[37m\u001b[0m \u001b[1m35s\u001b[0m 58ms/step - loss: 802.0097 - val_loss: 509.7815\n",
      "Epoch 5/5\n",
      "\u001b[1m600/600\u001b[0m \u001b[32m━━━━━━━━━━━━━━━━━━━━\u001b[0m\u001b[37m\u001b[0m \u001b[1m35s\u001b[0m 58ms/step - loss: 770.5034 - val_loss: 462.4358\n"
     ]
    },
    {
     "name": "stderr",
     "output_type": "stream",
     "text": [
      "WARNING:absl:You are saving your model as an HDF5 file via `model.save()` or `keras.saving.save_model(model)`. This file format is considered legacy. We recommend using instead the native Keras format, e.g. `model.save('my_model.keras')` or `keras.saving.save_model(model, 'my_model.keras')`. \n"
     ]
    },
    {
     "name": "stdout",
     "output_type": "stream",
     "text": [
      "Saved calls_model with lr=0.01 to call-lstm-lr-0.01.h5\n",
      "Epoch 1/5\n",
      "\u001b[1m600/600\u001b[0m \u001b[32m━━━━━━━━━━━━━━━━━━━━\u001b[0m\u001b[37m\u001b[0m \u001b[1m41s\u001b[0m 60ms/step - loss: 635.7473 - val_loss: 374.6650\n",
      "Epoch 2/5\n",
      "\u001b[1m600/600\u001b[0m \u001b[32m━━━━━━━━━━━━━━━━━━━━\u001b[0m\u001b[37m\u001b[0m \u001b[1m35s\u001b[0m 58ms/step - loss: 601.8231 - val_loss: 385.5637\n",
      "Epoch 3/5\n",
      "\u001b[1m600/600\u001b[0m \u001b[32m━━━━━━━━━━━━━━━━━━━━\u001b[0m\u001b[37m\u001b[0m \u001b[1m35s\u001b[0m 58ms/step - loss: 598.0319 - val_loss: 289.7827\n",
      "Epoch 4/5\n",
      "\u001b[1m600/600\u001b[0m \u001b[32m━━━━━━━━━━━━━━━━━━━━\u001b[0m\u001b[37m\u001b[0m \u001b[1m33s\u001b[0m 55ms/step - loss: 589.1680 - val_loss: 362.0814\n",
      "Epoch 5/5\n",
      "\u001b[1m600/600\u001b[0m \u001b[32m━━━━━━━━━━━━━━━━━━━━\u001b[0m\u001b[37m\u001b[0m \u001b[1m33s\u001b[0m 54ms/step - loss: 577.1650 - val_loss: 352.9912\n"
     ]
    },
    {
     "name": "stderr",
     "output_type": "stream",
     "text": [
      "WARNING:absl:You are saving your model as an HDF5 file via `model.save()` or `keras.saving.save_model(model)`. This file format is considered legacy. We recommend using instead the native Keras format, e.g. `model.save('my_model.keras')` or `keras.saving.save_model(model, 'my_model.keras')`. \n"
     ]
    },
    {
     "name": "stdout",
     "output_type": "stream",
     "text": [
      "Saved calls_model with lr=0.001 to call-lstm-lr-0.001.h5\n",
      "Epoch 1/5\n",
      "\u001b[1m600/600\u001b[0m \u001b[32m━━━━━━━━━━━━━━━━━━━━\u001b[0m\u001b[37m\u001b[0m \u001b[1m39s\u001b[0m 56ms/step - loss: 562.2892 - val_loss: 316.0703\n",
      "Epoch 2/5\n",
      "\u001b[1m600/600\u001b[0m \u001b[32m━━━━━━━━━━━━━━━━━━━━\u001b[0m\u001b[37m\u001b[0m \u001b[1m34s\u001b[0m 57ms/step - loss: 569.1586 - val_loss: 338.1693\n",
      "Epoch 3/5\n",
      "\u001b[1m600/600\u001b[0m \u001b[32m━━━━━━━━━━━━━━━━━━━━\u001b[0m\u001b[37m\u001b[0m \u001b[1m33s\u001b[0m 56ms/step - loss: 555.9469 - val_loss: 363.1645\n",
      "Epoch 4/5\n",
      "\u001b[1m600/600\u001b[0m \u001b[32m━━━━━━━━━━━━━━━━━━━━\u001b[0m\u001b[37m\u001b[0m \u001b[1m34s\u001b[0m 57ms/step - loss: 564.8047 - val_loss: 298.2140\n",
      "Epoch 5/5\n",
      "\u001b[1m600/600\u001b[0m \u001b[32m━━━━━━━━━━━━━━━━━━━━\u001b[0m\u001b[37m\u001b[0m \u001b[1m34s\u001b[0m 57ms/step - loss: 554.7857 - val_loss: 339.4699\n"
     ]
    },
    {
     "name": "stderr",
     "output_type": "stream",
     "text": [
      "WARNING:absl:You are saving your model as an HDF5 file via `model.save()` or `keras.saving.save_model(model)`. This file format is considered legacy. We recommend using instead the native Keras format, e.g. `model.save('my_model.keras')` or `keras.saving.save_model(model, 'my_model.keras')`. \n"
     ]
    },
    {
     "name": "stdout",
     "output_type": "stream",
     "text": [
      "Saved calls_model with lr=0.0001 to call-lstm-lr-0.0001.h5\n"
     ]
    }
   ],
   "source": [
    "learning_rates = [1e-2, 1e-3, 1e-4]\n",
    "\n",
    "for lr in learning_rates:\n",
    "    calls_model.compile(optimizer=Adam(learning_rate=lr), loss='mse')\n",
    "    \n",
    "    history = calls_model.fit(\n",
    "        [X_call_train, calls_static_train],\n",
    "        y_call_train,\n",
    "        batch_size=BATCH_SIZE,\n",
    "        epochs=EPOCHS,\n",
    "        validation_split=0.01,\n",
    "        callbacks=[TensorBoard()],\n",
    "        verbose=1\n",
    "    )\n",
    "    \n",
    "    model_name = f\"call-lstm-lr-{lr}.h5\"\n",
    "    calls_model.save(model_name)\n",
    "    print(f\"Saved calls_model with lr={lr} to {model_name}\")"
   ]
  },
  {
   "cell_type": "markdown",
   "metadata": {},
   "source": [
    "## Training for Puts"
   ]
  },
  {
   "cell_type": "code",
   "execution_count": null,
   "metadata": {},
   "outputs": [],
   "source": [
    "learning_rates = [1e-2, 1e-3, 1e-4]\n",
    "\n",
    "for lr in learning_rates:\n",
    "    puts_model.compile(optimizer=Adam(learning_rate=lr), loss='mse')\n",
    "    \n",
    "    history = calls_model.fit(\n",
    "        [X_put_train, puts_static_train],  # TWO inputs\n",
    "        y_call_train,\n",
    "        batch_size=BATCH_SIZE,\n",
    "        epochs=EPOCHS,\n",
    "        validation_split=0.01,  # or a separate val set\n",
    "        callbacks=[TensorBoard()],\n",
    "        verbose=1\n",
    "    )\n",
    "    \n",
    "    model_name = f\"call-lstm-lr-{lr}.h5\"\n",
    "    calls_model.save(model_name)\n",
    "    print(f\"Saved calls_model with lr={lr} to {model_name}\")"
   ]
  },
  {
   "cell_type": "markdown",
   "metadata": {},
   "source": [
    "## Evaluation and Plot"
   ]
  },
  {
   "cell_type": "code",
   "execution_count": 63,
   "metadata": {},
   "outputs": [
    {
     "ename": "TypeError",
     "evalue": "Could not locate function 'mse'. Make sure custom classes are decorated with `@keras.saving.register_keras_serializable()`. Full object config: {'module': 'keras.metrics', 'class_name': 'function', 'config': 'mse', 'registered_name': 'mse'}",
     "output_type": "error",
     "traceback": [
      "\u001b[31m---------------------------------------------------------------------------\u001b[39m",
      "\u001b[31mTypeError\u001b[39m                                 Traceback (most recent call last)",
      "\u001b[36mCell\u001b[39m\u001b[36m \u001b[39m\u001b[32mIn[63]\u001b[39m\u001b[32m, line 2\u001b[39m\n\u001b[32m      1\u001b[39m \u001b[38;5;66;03m# Test 10 random entries\u001b[39;00m\n\u001b[32m----> \u001b[39m\u001b[32m2\u001b[39m loaded_model = \u001b[43mload_model\u001b[49m\u001b[43m(\u001b[49m\u001b[33;43m'\u001b[39;49m\u001b[33;43mcall-lstm-lr-0.0001.h5\u001b[39;49m\u001b[33;43m'\u001b[39;49m\u001b[43m)\u001b[49m\n\u001b[32m      3\u001b[39m sample_entries = X_call.sample(\u001b[32m10\u001b[39m)\n\u001b[32m      4\u001b[39m scaler = StandardScaler()\n",
      "\u001b[36mFile \u001b[39m\u001b[32mc:\\GitHub Repos\\CS-4641-Project\\.venv\\Lib\\site-packages\\keras\\src\\saving\\saving_api.py:196\u001b[39m, in \u001b[36mload_model\u001b[39m\u001b[34m(filepath, custom_objects, compile, safe_mode)\u001b[39m\n\u001b[32m    189\u001b[39m     \u001b[38;5;28;01mreturn\u001b[39;00m saving_lib.load_model(\n\u001b[32m    190\u001b[39m         filepath,\n\u001b[32m    191\u001b[39m         custom_objects=custom_objects,\n\u001b[32m    192\u001b[39m         \u001b[38;5;28mcompile\u001b[39m=\u001b[38;5;28mcompile\u001b[39m,\n\u001b[32m    193\u001b[39m         safe_mode=safe_mode,\n\u001b[32m    194\u001b[39m     )\n\u001b[32m    195\u001b[39m \u001b[38;5;28;01mif\u001b[39;00m \u001b[38;5;28mstr\u001b[39m(filepath).endswith((\u001b[33m\"\u001b[39m\u001b[33m.h5\u001b[39m\u001b[33m\"\u001b[39m, \u001b[33m\"\u001b[39m\u001b[33m.hdf5\u001b[39m\u001b[33m\"\u001b[39m)):\n\u001b[32m--> \u001b[39m\u001b[32m196\u001b[39m     \u001b[38;5;28;01mreturn\u001b[39;00m \u001b[43mlegacy_h5_format\u001b[49m\u001b[43m.\u001b[49m\u001b[43mload_model_from_hdf5\u001b[49m\u001b[43m(\u001b[49m\n\u001b[32m    197\u001b[39m \u001b[43m        \u001b[49m\u001b[43mfilepath\u001b[49m\u001b[43m,\u001b[49m\u001b[43m \u001b[49m\u001b[43mcustom_objects\u001b[49m\u001b[43m=\u001b[49m\u001b[43mcustom_objects\u001b[49m\u001b[43m,\u001b[49m\u001b[43m \u001b[49m\u001b[38;5;28;43mcompile\u001b[39;49m\u001b[43m=\u001b[49m\u001b[38;5;28;43mcompile\u001b[39;49m\n\u001b[32m    198\u001b[39m \u001b[43m    \u001b[49m\u001b[43m)\u001b[49m\n\u001b[32m    199\u001b[39m \u001b[38;5;28;01melif\u001b[39;00m \u001b[38;5;28mstr\u001b[39m(filepath).endswith(\u001b[33m\"\u001b[39m\u001b[33m.keras\u001b[39m\u001b[33m\"\u001b[39m):\n\u001b[32m    200\u001b[39m     \u001b[38;5;28;01mraise\u001b[39;00m \u001b[38;5;167;01mValueError\u001b[39;00m(\n\u001b[32m    201\u001b[39m         \u001b[33mf\u001b[39m\u001b[33m\"\u001b[39m\u001b[33mFile not found: filepath=\u001b[39m\u001b[38;5;132;01m{\u001b[39;00mfilepath\u001b[38;5;132;01m}\u001b[39;00m\u001b[33m. \u001b[39m\u001b[33m\"\u001b[39m\n\u001b[32m    202\u001b[39m         \u001b[33m\"\u001b[39m\u001b[33mPlease ensure the file is an accessible `.keras` \u001b[39m\u001b[33m\"\u001b[39m\n\u001b[32m    203\u001b[39m         \u001b[33m\"\u001b[39m\u001b[33mzip file.\u001b[39m\u001b[33m\"\u001b[39m\n\u001b[32m    204\u001b[39m     )\n",
      "\u001b[36mFile \u001b[39m\u001b[32mc:\\GitHub Repos\\CS-4641-Project\\.venv\\Lib\\site-packages\\keras\\src\\legacy\\saving\\legacy_h5_format.py:155\u001b[39m, in \u001b[36mload_model_from_hdf5\u001b[39m\u001b[34m(filepath, custom_objects, compile)\u001b[39m\n\u001b[32m    151\u001b[39m training_config = json_utils.decode(training_config)\n\u001b[32m    153\u001b[39m \u001b[38;5;66;03m# Compile model.\u001b[39;00m\n\u001b[32m    154\u001b[39m model.compile(\n\u001b[32m--> \u001b[39m\u001b[32m155\u001b[39m     **\u001b[43msaving_utils\u001b[49m\u001b[43m.\u001b[49m\u001b[43mcompile_args_from_training_config\u001b[49m\u001b[43m(\u001b[49m\n\u001b[32m    156\u001b[39m \u001b[43m        \u001b[49m\u001b[43mtraining_config\u001b[49m\u001b[43m,\u001b[49m\u001b[43m \u001b[49m\u001b[43mcustom_objects\u001b[49m\n\u001b[32m    157\u001b[39m \u001b[43m    \u001b[49m\u001b[43m)\u001b[49m\n\u001b[32m    158\u001b[39m )\n\u001b[32m    159\u001b[39m saving_utils.try_build_compiled_arguments(model)\n\u001b[32m    161\u001b[39m \u001b[38;5;66;03m# Set optimizer weights.\u001b[39;00m\n",
      "\u001b[36mFile \u001b[39m\u001b[32mc:\\GitHub Repos\\CS-4641-Project\\.venv\\Lib\\site-packages\\keras\\src\\legacy\\saving\\saving_utils.py:146\u001b[39m, in \u001b[36mcompile_args_from_training_config\u001b[39m\u001b[34m(training_config, custom_objects)\u001b[39m\n\u001b[32m    144\u001b[39m loss_config = training_config.get(\u001b[33m\"\u001b[39m\u001b[33mloss\u001b[39m\u001b[33m\"\u001b[39m, \u001b[38;5;28;01mNone\u001b[39;00m)\n\u001b[32m    145\u001b[39m \u001b[38;5;28;01mif\u001b[39;00m loss_config \u001b[38;5;129;01mis\u001b[39;00m \u001b[38;5;129;01mnot\u001b[39;00m \u001b[38;5;28;01mNone\u001b[39;00m:\n\u001b[32m--> \u001b[39m\u001b[32m146\u001b[39m     loss = \u001b[43m_deserialize_nested_config\u001b[49m\u001b[43m(\u001b[49m\u001b[43mlosses\u001b[49m\u001b[43m.\u001b[49m\u001b[43mdeserialize\u001b[49m\u001b[43m,\u001b[49m\u001b[43m \u001b[49m\u001b[43mloss_config\u001b[49m\u001b[43m)\u001b[49m\n\u001b[32m    147\u001b[39m     \u001b[38;5;66;03m# Ensure backwards compatibility for losses in legacy H5 files\u001b[39;00m\n\u001b[32m    148\u001b[39m     loss = _resolve_compile_arguments_compat(loss, loss_config, losses)\n",
      "\u001b[36mFile \u001b[39m\u001b[32mc:\\GitHub Repos\\CS-4641-Project\\.venv\\Lib\\site-packages\\keras\\src\\legacy\\saving\\saving_utils.py:205\u001b[39m, in \u001b[36m_deserialize_nested_config\u001b[39m\u001b[34m(deserialize_fn, config)\u001b[39m\n\u001b[32m    203\u001b[39m     \u001b[38;5;28;01mreturn\u001b[39;00m \u001b[38;5;28;01mNone\u001b[39;00m\n\u001b[32m    204\u001b[39m \u001b[38;5;28;01mif\u001b[39;00m _is_single_object(config):\n\u001b[32m--> \u001b[39m\u001b[32m205\u001b[39m     \u001b[38;5;28;01mreturn\u001b[39;00m \u001b[43mdeserialize_fn\u001b[49m\u001b[43m(\u001b[49m\u001b[43mconfig\u001b[49m\u001b[43m)\u001b[49m\n\u001b[32m    206\u001b[39m \u001b[38;5;28;01melif\u001b[39;00m \u001b[38;5;28misinstance\u001b[39m(config, \u001b[38;5;28mdict\u001b[39m):\n\u001b[32m    207\u001b[39m     \u001b[38;5;28;01mreturn\u001b[39;00m {\n\u001b[32m    208\u001b[39m         k: _deserialize_nested_config(deserialize_fn, v)\n\u001b[32m    209\u001b[39m         \u001b[38;5;28;01mfor\u001b[39;00m k, v \u001b[38;5;129;01min\u001b[39;00m config.items()\n\u001b[32m    210\u001b[39m     }\n",
      "\u001b[36mFile \u001b[39m\u001b[32mc:\\GitHub Repos\\CS-4641-Project\\.venv\\Lib\\site-packages\\keras\\src\\losses\\__init__.py:155\u001b[39m, in \u001b[36mdeserialize\u001b[39m\u001b[34m(name, custom_objects)\u001b[39m\n\u001b[32m    142\u001b[39m \u001b[38;5;129m@keras_export\u001b[39m(\u001b[33m\"\u001b[39m\u001b[33mkeras.losses.deserialize\u001b[39m\u001b[33m\"\u001b[39m)\n\u001b[32m    143\u001b[39m \u001b[38;5;28;01mdef\u001b[39;00m\u001b[38;5;250m \u001b[39m\u001b[34mdeserialize\u001b[39m(name, custom_objects=\u001b[38;5;28;01mNone\u001b[39;00m):\n\u001b[32m    144\u001b[39m \u001b[38;5;250m    \u001b[39m\u001b[33;03m\"\"\"Deserializes a serialized loss class/function instance.\u001b[39;00m\n\u001b[32m    145\u001b[39m \n\u001b[32m    146\u001b[39m \u001b[33;03m    Args:\u001b[39;00m\n\u001b[32m   (...)\u001b[39m\u001b[32m    153\u001b[39m \u001b[33;03m        A Keras `Loss` instance or a loss function.\u001b[39;00m\n\u001b[32m    154\u001b[39m \u001b[33;03m    \"\"\"\u001b[39;00m\n\u001b[32m--> \u001b[39m\u001b[32m155\u001b[39m     \u001b[38;5;28;01mreturn\u001b[39;00m \u001b[43mserialization_lib\u001b[49m\u001b[43m.\u001b[49m\u001b[43mdeserialize_keras_object\u001b[49m\u001b[43m(\u001b[49m\n\u001b[32m    156\u001b[39m \u001b[43m        \u001b[49m\u001b[43mname\u001b[49m\u001b[43m,\u001b[49m\n\u001b[32m    157\u001b[39m \u001b[43m        \u001b[49m\u001b[43mmodule_objects\u001b[49m\u001b[43m=\u001b[49m\u001b[43mALL_OBJECTS_DICT\u001b[49m\u001b[43m,\u001b[49m\n\u001b[32m    158\u001b[39m \u001b[43m        \u001b[49m\u001b[43mcustom_objects\u001b[49m\u001b[43m=\u001b[49m\u001b[43mcustom_objects\u001b[49m\u001b[43m,\u001b[49m\n\u001b[32m    159\u001b[39m \u001b[43m    \u001b[49m\u001b[43m)\u001b[49m\n",
      "\u001b[36mFile \u001b[39m\u001b[32mc:\\GitHub Repos\\CS-4641-Project\\.venv\\Lib\\site-packages\\keras\\src\\saving\\serialization_lib.py:575\u001b[39m, in \u001b[36mdeserialize_keras_object\u001b[39m\u001b[34m(config, custom_objects, safe_mode, **kwargs)\u001b[39m\n\u001b[32m    573\u001b[39m             \u001b[38;5;28;01mreturn\u001b[39;00m config\n\u001b[32m    574\u001b[39m         \u001b[38;5;28;01mif\u001b[39;00m \u001b[38;5;28misinstance\u001b[39m(module_objects[config], types.FunctionType):\n\u001b[32m--> \u001b[39m\u001b[32m575\u001b[39m             \u001b[38;5;28;01mreturn\u001b[39;00m \u001b[43mdeserialize_keras_object\u001b[49m\u001b[43m(\u001b[49m\n\u001b[32m    576\u001b[39m \u001b[43m                \u001b[49m\u001b[43mserialize_with_public_fn\u001b[49m\u001b[43m(\u001b[49m\n\u001b[32m    577\u001b[39m \u001b[43m                    \u001b[49m\u001b[43mmodule_objects\u001b[49m\u001b[43m[\u001b[49m\u001b[43mconfig\u001b[49m\u001b[43m]\u001b[49m\u001b[43m,\u001b[49m\u001b[43m \u001b[49m\u001b[43mconfig\u001b[49m\u001b[43m,\u001b[49m\u001b[43m \u001b[49m\u001b[43mfn_module_name\u001b[49m\n\u001b[32m    578\u001b[39m \u001b[43m                \u001b[49m\u001b[43m)\u001b[49m\u001b[43m,\u001b[49m\n\u001b[32m    579\u001b[39m \u001b[43m                \u001b[49m\u001b[43mcustom_objects\u001b[49m\u001b[43m=\u001b[49m\u001b[43mcustom_objects\u001b[49m\u001b[43m,\u001b[49m\n\u001b[32m    580\u001b[39m \u001b[43m            \u001b[49m\u001b[43m)\u001b[49m\n\u001b[32m    581\u001b[39m         \u001b[38;5;28;01mreturn\u001b[39;00m deserialize_keras_object(\n\u001b[32m    582\u001b[39m             serialize_with_public_class(\n\u001b[32m    583\u001b[39m                 module_objects[config], inner_config=inner_config\n\u001b[32m    584\u001b[39m             ),\n\u001b[32m    585\u001b[39m             custom_objects=custom_objects,\n\u001b[32m    586\u001b[39m         )\n\u001b[32m    588\u001b[39m \u001b[38;5;28;01mif\u001b[39;00m \u001b[38;5;28misinstance\u001b[39m(config, PLAIN_TYPES):\n",
      "\u001b[36mFile \u001b[39m\u001b[32mc:\\GitHub Repos\\CS-4641-Project\\.venv\\Lib\\site-packages\\keras\\src\\saving\\serialization_lib.py:678\u001b[39m, in \u001b[36mdeserialize_keras_object\u001b[39m\u001b[34m(config, custom_objects, safe_mode, **kwargs)\u001b[39m\n\u001b[32m    676\u001b[39m \u001b[38;5;28;01mif\u001b[39;00m class_name == \u001b[33m\"\u001b[39m\u001b[33mfunction\u001b[39m\u001b[33m\"\u001b[39m:\n\u001b[32m    677\u001b[39m     fn_name = inner_config\n\u001b[32m--> \u001b[39m\u001b[32m678\u001b[39m     \u001b[38;5;28;01mreturn\u001b[39;00m \u001b[43m_retrieve_class_or_fn\u001b[49m\u001b[43m(\u001b[49m\n\u001b[32m    679\u001b[39m \u001b[43m        \u001b[49m\u001b[43mfn_name\u001b[49m\u001b[43m,\u001b[49m\n\u001b[32m    680\u001b[39m \u001b[43m        \u001b[49m\u001b[43mregistered_name\u001b[49m\u001b[43m,\u001b[49m\n\u001b[32m    681\u001b[39m \u001b[43m        \u001b[49m\u001b[43mmodule\u001b[49m\u001b[43m,\u001b[49m\n\u001b[32m    682\u001b[39m \u001b[43m        \u001b[49m\u001b[43mobj_type\u001b[49m\u001b[43m=\u001b[49m\u001b[33;43m\"\u001b[39;49m\u001b[33;43mfunction\u001b[39;49m\u001b[33;43m\"\u001b[39;49m\u001b[43m,\u001b[49m\n\u001b[32m    683\u001b[39m \u001b[43m        \u001b[49m\u001b[43mfull_config\u001b[49m\u001b[43m=\u001b[49m\u001b[43mconfig\u001b[49m\u001b[43m,\u001b[49m\n\u001b[32m    684\u001b[39m \u001b[43m        \u001b[49m\u001b[43mcustom_objects\u001b[49m\u001b[43m=\u001b[49m\u001b[43mcustom_objects\u001b[49m\u001b[43m,\u001b[49m\n\u001b[32m    685\u001b[39m \u001b[43m    \u001b[49m\u001b[43m)\u001b[49m\n\u001b[32m    687\u001b[39m \u001b[38;5;66;03m# Below, handling of all classes.\u001b[39;00m\n\u001b[32m    688\u001b[39m \u001b[38;5;66;03m# First, is it a shared object?\u001b[39;00m\n\u001b[32m    689\u001b[39m \u001b[38;5;28;01mif\u001b[39;00m \u001b[33m\"\u001b[39m\u001b[33mshared_object_id\u001b[39m\u001b[33m\"\u001b[39m \u001b[38;5;129;01min\u001b[39;00m config:\n",
      "\u001b[36mFile \u001b[39m\u001b[32mc:\\GitHub Repos\\CS-4641-Project\\.venv\\Lib\\site-packages\\keras\\src\\saving\\serialization_lib.py:810\u001b[39m, in \u001b[36m_retrieve_class_or_fn\u001b[39m\u001b[34m(name, registered_name, module, obj_type, full_config, custom_objects)\u001b[39m\n\u001b[32m    803\u001b[39m         \u001b[38;5;28;01mexcept\u001b[39;00m \u001b[38;5;167;01mModuleNotFoundError\u001b[39;00m:\n\u001b[32m    804\u001b[39m             \u001b[38;5;28;01mraise\u001b[39;00m \u001b[38;5;167;01mTypeError\u001b[39;00m(\n\u001b[32m    805\u001b[39m                 \u001b[33mf\u001b[39m\u001b[33m\"\u001b[39m\u001b[33mCould not deserialize \u001b[39m\u001b[38;5;132;01m{\u001b[39;00mobj_type\u001b[38;5;132;01m}\u001b[39;00m\u001b[33m \u001b[39m\u001b[33m'\u001b[39m\u001b[38;5;132;01m{\u001b[39;00mname\u001b[38;5;132;01m}\u001b[39;00m\u001b[33m'\u001b[39m\u001b[33m because \u001b[39m\u001b[33m\"\u001b[39m\n\u001b[32m    806\u001b[39m                 \u001b[33mf\u001b[39m\u001b[33m\"\u001b[39m\u001b[33mits parent module \u001b[39m\u001b[38;5;132;01m{\u001b[39;00mmodule\u001b[38;5;132;01m}\u001b[39;00m\u001b[33m cannot be imported. \u001b[39m\u001b[33m\"\u001b[39m\n\u001b[32m    807\u001b[39m                 \u001b[33mf\u001b[39m\u001b[33m\"\u001b[39m\u001b[33mFull object config: \u001b[39m\u001b[38;5;132;01m{\u001b[39;00mfull_config\u001b[38;5;132;01m}\u001b[39;00m\u001b[33m\"\u001b[39m\n\u001b[32m    808\u001b[39m             )\n\u001b[32m--> \u001b[39m\u001b[32m810\u001b[39m \u001b[38;5;28;01mraise\u001b[39;00m \u001b[38;5;167;01mTypeError\u001b[39;00m(\n\u001b[32m    811\u001b[39m     \u001b[33mf\u001b[39m\u001b[33m\"\u001b[39m\u001b[33mCould not locate \u001b[39m\u001b[38;5;132;01m{\u001b[39;00mobj_type\u001b[38;5;132;01m}\u001b[39;00m\u001b[33m \u001b[39m\u001b[33m'\u001b[39m\u001b[38;5;132;01m{\u001b[39;00mname\u001b[38;5;132;01m}\u001b[39;00m\u001b[33m'\u001b[39m\u001b[33m. \u001b[39m\u001b[33m\"\u001b[39m\n\u001b[32m    812\u001b[39m     \u001b[33m\"\u001b[39m\u001b[33mMake sure custom classes are decorated with \u001b[39m\u001b[33m\"\u001b[39m\n\u001b[32m    813\u001b[39m     \u001b[33m\"\u001b[39m\u001b[33m`@keras.saving.register_keras_serializable()`. \u001b[39m\u001b[33m\"\u001b[39m\n\u001b[32m    814\u001b[39m     \u001b[33mf\u001b[39m\u001b[33m\"\u001b[39m\u001b[33mFull object config: \u001b[39m\u001b[38;5;132;01m{\u001b[39;00mfull_config\u001b[38;5;132;01m}\u001b[39;00m\u001b[33m\"\u001b[39m\n\u001b[32m    815\u001b[39m )\n",
      "\u001b[31mTypeError\u001b[39m: Could not locate function 'mse'. Make sure custom classes are decorated with `@keras.saving.register_keras_serializable()`. Full object config: {'module': 'keras.metrics', 'class_name': 'function', 'config': 'mse', 'registered_name': 'mse'}"
     ]
    }
   ],
   "source": [
    "# Test 10 random entries\n",
    "loaded_model = load_model('call-lstm-lr-0.0001.h5')\n",
    "sample_entries = X_call.sample(10)\n",
    "scaler = StandardScaler()\n",
    "sample_scaled = scaler.transform(sample_entries)\n",
    "predictions = loaded_model.predict(sample_scaled)\n",
    "\n",
    "for i, idx in enumerate(sample_entries.index):\n",
    "    print(f\"Entry {idx} - Predicted price: {predictions[i][0]:.2f}, Actual price: {y.loc[idx]:.2f}\")"
   ]
  }
 ],
 "metadata": {
  "kernelspec": {
   "display_name": ".venv",
   "language": "python",
   "name": "python3"
  },
  "language_info": {
   "codemirror_mode": {
    "name": "ipython",
    "version": 3
   },
   "file_extension": ".py",
   "mimetype": "text/x-python",
   "name": "python",
   "nbconvert_exporter": "python",
   "pygments_lexer": "ipython3",
   "version": "3.12.9"
  }
 },
 "nbformat": 4,
 "nbformat_minor": 2
}
